{
  "cells": [
    {
      "cell_type": "markdown",
      "source": [
        "# **IMPORT LIBRARY**"
      ],
      "metadata": {
        "id": "9bQmWLlT7a8i"
      }
    },
    {
      "cell_type": "code",
      "execution_count": 1,
      "metadata": {
        "id": "rQYwy1SrGy54"
      },
      "outputs": [],
      "source": [
        "import pandas as pd\n",
        "import os\n",
        "import matplotlib.pyplot as plt\n",
        "import seaborn as sns\n",
        "import cv2\n",
        "import pickle\n",
        "import shutil\n",
        "import numpy as np\n",
        "import tensorflow as tf\n",
        "from PIL import Image\n",
        "\n",
        "from google.colab import drive\n",
        "from tensorflow.keras.preprocessing.image import ImageDataGenerator\n",
        "from tensorflow.keras import regularizers, models, layers\n",
        "from tensorflow.keras.models import Sequential\n",
        "from tensorflow.keras.callbacks import ModelCheckpoint, ReduceLROnPlateau"
      ]
    },
    {
      "cell_type": "markdown",
      "source": [
        "# **Connect With Google Drive**"
      ],
      "metadata": {
        "id": "uzE7hNlY7h1c"
      }
    },
    {
      "cell_type": "code",
      "source": [
        "# Mount Google Drive\n",
        "drive.mount('/content/drive')"
      ],
      "metadata": {
        "colab": {
          "base_uri": "https://localhost:8080/"
        },
        "id": "NY_ObabppLrs",
        "outputId": "21e3176e-b325-4c52-eee6-0562ba4e6ec2"
      },
      "execution_count": 2,
      "outputs": [
        {
          "output_type": "stream",
          "name": "stdout",
          "text": [
            "Mounted at /content/drive\n"
          ]
        }
      ]
    },
    {
      "cell_type": "markdown",
      "source": [
        "# **Set Path to Dataset**"
      ],
      "metadata": {
        "id": "R9s-QLL579sd"
      }
    },
    {
      "cell_type": "code",
      "execution_count": 3,
      "metadata": {
        "id": "6b7cXDg6G1yj"
      },
      "outputs": [],
      "source": [
        "# Paths to the dataset subfolders\n",
        "base_path = '/content/drive/MyDrive/dataset'"
      ]
    },
    {
      "cell_type": "code",
      "source": [
        "# Path to the Dataset folder\n",
        "train_dir = os.path.join(base_path, 'train')\n",
        "valid_dir = os.path.join(base_path, 'valid')\n",
        "test_dir = os.path.join(base_path, 'test')"
      ],
      "metadata": {
        "id": "GkkrpmEA77si"
      },
      "execution_count": 4,
      "outputs": []
    },
    {
      "cell_type": "markdown",
      "source": [
        "# **Configuring and Evaluating Datasets for Model Training**"
      ],
      "metadata": {
        "id": "S6E9OTfz8kDK"
      }
    },
    {
      "cell_type": "code",
      "execution_count": 34,
      "metadata": {
        "colab": {
          "base_uri": "https://localhost:8080/"
        },
        "id": "OsgMh1ElG8UB",
        "outputId": "d2d523c5-c1eb-42b1-ec70-5aacbe4eb22b"
      },
      "outputs": [
        {
          "output_type": "stream",
          "name": "stdout",
          "text": [
            "Found 1200 images belonging to 6 classes.\n",
            "Found 240 images belonging to 6 classes.\n",
            "Found 60 images belonging to 6 classes.\n",
            "\n",
            "Number of images per class in the train data:\n",
            "Blepharitis: 200\n",
            "Conjunctivitis: 200\n",
            "Entropion: 200\n",
            "Eyelid_Lump: 200\n",
            "Nuclear Sclerosis: 200\n",
            "Pigmented keratitis: 200\n",
            "\n",
            "Number of images per class in the valid data:\n",
            "Blepharitis: 40\n",
            "Conjunctivitis: 40\n",
            "Entropion: 40\n",
            "Eyelid_Lump: 40\n",
            "Nuclear Sclerosis: 40\n",
            "Pigmented keratitis: 40\n",
            "\n",
            "Number of images per class in the test data:\n",
            "Blepharitis: 10\n",
            "Conjunctivitis: 10\n",
            "Entropion: 10\n",
            "Eyelid_Lump: 10\n",
            "Nuclear Sclerosis: 10\n",
            "Pigmented keratitis: 10\n"
          ]
        }
      ],
      "source": [
        "# Set up ImageDataGenerator for train, valid, and test with augmentation on the train set\n",
        "train_datagen = ImageDataGenerator(\n",
        "    rescale=1./255,\n",
        "    rotation_range=20,\n",
        "    horizontal_flip=True)\n",
        "valid_datagen = ImageDataGenerator(rescale=1./255, horizontal_flip=True,)\n",
        "test_datagen = ImageDataGenerator(rescale=1./255)\n",
        "\n",
        "# Set up ImageDataGenerator for each dataset\n",
        "train_dataset = train_datagen.flow_from_directory(\n",
        "    train_dir,\n",
        "    target_size=(224, 224),\n",
        "    batch_size=32,\n",
        "    class_mode='sparse'\n",
        ")\n",
        "\n",
        "valid_dataset = valid_datagen.flow_from_directory(\n",
        "    valid_dir,\n",
        "    target_size=(224, 224),\n",
        "    batch_size=32,\n",
        "    class_mode='sparse'\n",
        ")\n",
        "\n",
        "test_dataset = test_datagen.flow_from_directory(\n",
        "    test_dir,\n",
        "    target_size=(224, 224),\n",
        "    batch_size=32,\n",
        "    class_mode='sparse'\n",
        ")\n",
        "\n",
        "# Function to display the number of images per class\n",
        "def display_class_counts(dataset, dataset_name):\n",
        "    class_counts = {class_name: 0 for class_name in dataset.class_indices.keys()}\n",
        "    for label in dataset.classes:\n",
        "        class_name = list(dataset.class_indices.keys())[list(dataset.class_indices.values()).index(label)]\n",
        "        class_counts[class_name] += 1\n",
        "\n",
        "    print(f\"\\nNumber of images per class in the {dataset_name} data:\")\n",
        "    for class_name, count in class_counts.items():\n",
        "        print(f\"{class_name}: {count}\")\n",
        "\n",
        "# Display the number of images per class for train, valid, and test\n",
        "display_class_counts(train_dataset, 'train')\n",
        "display_class_counts(valid_dataset, 'valid')\n",
        "display_class_counts(test_dataset, 'test')"
      ]
    },
    {
      "cell_type": "markdown",
      "source": [
        "## Retrieve the first batch of images and labels"
      ],
      "metadata": {
        "id": "692aZiW-80xZ"
      }
    },
    {
      "cell_type": "code",
      "execution_count": null,
      "metadata": {
        "colab": {
          "base_uri": "https://localhost:8080/"
        },
        "id": "Cds9MKe9KkKe",
        "outputId": "61edbe10-d750-426d-91b7-9de27d957394"
      },
      "outputs": [
        {
          "output_type": "stream",
          "name": "stdout",
          "text": [
            "Maximum pixel value of images: 1.0\n",
            "\n",
            "Shape of batch of images: (32, 224, 224, 3)\n",
            "Shape of batch of labels: (32,)\n"
          ]
        }
      ],
      "source": [
        "images, labels = next(iter(train_dataset))\n",
        "\n",
        "print(f\"Maximum pixel value of images: {np.max(images)}\\n\")\n",
        "print(f\"Shape of batch of images: {images.shape}\")\n",
        "print(f\"Shape of batch of labels: {labels.shape}\")"
      ]
    },
    {
      "cell_type": "markdown",
      "metadata": {
        "id": "rNVaHTksJIDq"
      },
      "source": [
        "# **MODEL**"
      ]
    },
    {
      "cell_type": "code",
      "execution_count": null,
      "metadata": {
        "id": "3fNxjdvzL3Wg"
      },
      "outputs": [],
      "source": [
        "def create_model():\n",
        "    model = models.Sequential([\n",
        "        layers.Input(shape=(224, 224, 3)),\n",
        "\n",
        "        layers.Conv2D(16, (3, 3), activation='relu', kernel_regularizer=regularizers.l2(0.001)),\n",
        "        layers.MaxPooling2D(pool_size=(2, 2)),\n",
        "        layers.Dropout(0.4),\n",
        "\n",
        "        layers.Conv2D(32, (3, 3), activation='relu', kernel_regularizer=regularizers.l2(0.001)),\n",
        "        layers.MaxPooling2D(pool_size=(2, 2)),\n",
        "        layers.Dropout(0.4),\n",
        "\n",
        "        layers.Conv2D(64, (3, 3), activation='relu', kernel_regularizer=regularizers.l2(0.001)),\n",
        "        layers.MaxPooling2D(pool_size=(2, 2)),\n",
        "        layers.Dropout(0.4),\n",
        "\n",
        "        layers.Conv2D(128, (3, 3), activation='relu', kernel_regularizer=regularizers.l2(0.001)),\n",
        "        layers.MaxPooling2D(pool_size=(2, 2)),\n",
        "        layers.Dropout(0.4),\n",
        "\n",
        "        layers.Flatten(),\n",
        "        layers.Dense(256, activation='relu', kernel_regularizer=regularizers.l2(0.001)),\n",
        "        layers.Dropout(0.5),\n",
        "        layers.Dense(512, activation='relu', kernel_regularizer=regularizers.l2(0.001)),\n",
        "        layers.Dense(9, activation='softmax')\n",
        "    ])\n",
        "    return model\n",
        "\n",
        "# Create the compiled but untrained model\n",
        "model = create_model()"
      ]
    },
    {
      "cell_type": "code",
      "execution_count": null,
      "metadata": {
        "colab": {
          "base_uri": "https://localhost:8080/",
          "height": 694
        },
        "id": "6_0VifEjOUWJ",
        "outputId": "1851e0cb-6a7d-44e1-a61b-f99ad66656bb"
      },
      "outputs": [
        {
          "output_type": "display_data",
          "data": {
            "text/plain": [
              "\u001b[1mModel: \"sequential\"\u001b[0m\n"
            ],
            "text/html": [
              "<pre style=\"white-space:pre;overflow-x:auto;line-height:normal;font-family:Menlo,'DejaVu Sans Mono',consolas,'Courier New',monospace\"><span style=\"font-weight: bold\">Model: \"sequential\"</span>\n",
              "</pre>\n"
            ]
          },
          "metadata": {}
        },
        {
          "output_type": "display_data",
          "data": {
            "text/plain": [
              "┏━━━━━━━━━━━━━━━━━━━━━━━━━━━━━━━━━━━━━━┳━━━━━━━━━━━━━━━━━━━━━━━━━━━━━┳━━━━━━━━━━━━━━━━━┓\n",
              "┃\u001b[1m \u001b[0m\u001b[1mLayer (type)                        \u001b[0m\u001b[1m \u001b[0m┃\u001b[1m \u001b[0m\u001b[1mOutput Shape               \u001b[0m\u001b[1m \u001b[0m┃\u001b[1m \u001b[0m\u001b[1m        Param #\u001b[0m\u001b[1m \u001b[0m┃\n",
              "┡━━━━━━━━━━━━━━━━━━━━━━━━━━━━━━━━━━━━━━╇━━━━━━━━━━━━━━━━━━━━━━━━━━━━━╇━━━━━━━━━━━━━━━━━┩\n",
              "│ conv2d (\u001b[38;5;33mConv2D\u001b[0m)                      │ (\u001b[38;5;45mNone\u001b[0m, \u001b[38;5;34m222\u001b[0m, \u001b[38;5;34m222\u001b[0m, \u001b[38;5;34m16\u001b[0m)        │             \u001b[38;5;34m448\u001b[0m │\n",
              "├──────────────────────────────────────┼─────────────────────────────┼─────────────────┤\n",
              "│ max_pooling2d (\u001b[38;5;33mMaxPooling2D\u001b[0m)         │ (\u001b[38;5;45mNone\u001b[0m, \u001b[38;5;34m111\u001b[0m, \u001b[38;5;34m111\u001b[0m, \u001b[38;5;34m16\u001b[0m)        │               \u001b[38;5;34m0\u001b[0m │\n",
              "├──────────────────────────────────────┼─────────────────────────────┼─────────────────┤\n",
              "│ dropout (\u001b[38;5;33mDropout\u001b[0m)                    │ (\u001b[38;5;45mNone\u001b[0m, \u001b[38;5;34m111\u001b[0m, \u001b[38;5;34m111\u001b[0m, \u001b[38;5;34m16\u001b[0m)        │               \u001b[38;5;34m0\u001b[0m │\n",
              "├──────────────────────────────────────┼─────────────────────────────┼─────────────────┤\n",
              "│ conv2d_1 (\u001b[38;5;33mConv2D\u001b[0m)                    │ (\u001b[38;5;45mNone\u001b[0m, \u001b[38;5;34m109\u001b[0m, \u001b[38;5;34m109\u001b[0m, \u001b[38;5;34m32\u001b[0m)        │           \u001b[38;5;34m4,640\u001b[0m │\n",
              "├──────────────────────────────────────┼─────────────────────────────┼─────────────────┤\n",
              "│ max_pooling2d_1 (\u001b[38;5;33mMaxPooling2D\u001b[0m)       │ (\u001b[38;5;45mNone\u001b[0m, \u001b[38;5;34m54\u001b[0m, \u001b[38;5;34m54\u001b[0m, \u001b[38;5;34m32\u001b[0m)          │               \u001b[38;5;34m0\u001b[0m │\n",
              "├──────────────────────────────────────┼─────────────────────────────┼─────────────────┤\n",
              "│ dropout_1 (\u001b[38;5;33mDropout\u001b[0m)                  │ (\u001b[38;5;45mNone\u001b[0m, \u001b[38;5;34m54\u001b[0m, \u001b[38;5;34m54\u001b[0m, \u001b[38;5;34m32\u001b[0m)          │               \u001b[38;5;34m0\u001b[0m │\n",
              "├──────────────────────────────────────┼─────────────────────────────┼─────────────────┤\n",
              "│ conv2d_2 (\u001b[38;5;33mConv2D\u001b[0m)                    │ (\u001b[38;5;45mNone\u001b[0m, \u001b[38;5;34m52\u001b[0m, \u001b[38;5;34m52\u001b[0m, \u001b[38;5;34m64\u001b[0m)          │          \u001b[38;5;34m18,496\u001b[0m │\n",
              "├──────────────────────────────────────┼─────────────────────────────┼─────────────────┤\n",
              "│ max_pooling2d_2 (\u001b[38;5;33mMaxPooling2D\u001b[0m)       │ (\u001b[38;5;45mNone\u001b[0m, \u001b[38;5;34m26\u001b[0m, \u001b[38;5;34m26\u001b[0m, \u001b[38;5;34m64\u001b[0m)          │               \u001b[38;5;34m0\u001b[0m │\n",
              "├──────────────────────────────────────┼─────────────────────────────┼─────────────────┤\n",
              "│ dropout_2 (\u001b[38;5;33mDropout\u001b[0m)                  │ (\u001b[38;5;45mNone\u001b[0m, \u001b[38;5;34m26\u001b[0m, \u001b[38;5;34m26\u001b[0m, \u001b[38;5;34m64\u001b[0m)          │               \u001b[38;5;34m0\u001b[0m │\n",
              "├──────────────────────────────────────┼─────────────────────────────┼─────────────────┤\n",
              "│ conv2d_3 (\u001b[38;5;33mConv2D\u001b[0m)                    │ (\u001b[38;5;45mNone\u001b[0m, \u001b[38;5;34m24\u001b[0m, \u001b[38;5;34m24\u001b[0m, \u001b[38;5;34m128\u001b[0m)         │          \u001b[38;5;34m73,856\u001b[0m │\n",
              "├──────────────────────────────────────┼─────────────────────────────┼─────────────────┤\n",
              "│ max_pooling2d_3 (\u001b[38;5;33mMaxPooling2D\u001b[0m)       │ (\u001b[38;5;45mNone\u001b[0m, \u001b[38;5;34m12\u001b[0m, \u001b[38;5;34m12\u001b[0m, \u001b[38;5;34m128\u001b[0m)         │               \u001b[38;5;34m0\u001b[0m │\n",
              "├──────────────────────────────────────┼─────────────────────────────┼─────────────────┤\n",
              "│ dropout_3 (\u001b[38;5;33mDropout\u001b[0m)                  │ (\u001b[38;5;45mNone\u001b[0m, \u001b[38;5;34m12\u001b[0m, \u001b[38;5;34m12\u001b[0m, \u001b[38;5;34m128\u001b[0m)         │               \u001b[38;5;34m0\u001b[0m │\n",
              "├──────────────────────────────────────┼─────────────────────────────┼─────────────────┤\n",
              "│ flatten (\u001b[38;5;33mFlatten\u001b[0m)                    │ (\u001b[38;5;45mNone\u001b[0m, \u001b[38;5;34m18432\u001b[0m)               │               \u001b[38;5;34m0\u001b[0m │\n",
              "├──────────────────────────────────────┼─────────────────────────────┼─────────────────┤\n",
              "│ dense (\u001b[38;5;33mDense\u001b[0m)                        │ (\u001b[38;5;45mNone\u001b[0m, \u001b[38;5;34m256\u001b[0m)                 │       \u001b[38;5;34m4,718,848\u001b[0m │\n",
              "├──────────────────────────────────────┼─────────────────────────────┼─────────────────┤\n",
              "│ dropout_4 (\u001b[38;5;33mDropout\u001b[0m)                  │ (\u001b[38;5;45mNone\u001b[0m, \u001b[38;5;34m256\u001b[0m)                 │               \u001b[38;5;34m0\u001b[0m │\n",
              "├──────────────────────────────────────┼─────────────────────────────┼─────────────────┤\n",
              "│ dense_1 (\u001b[38;5;33mDense\u001b[0m)                      │ (\u001b[38;5;45mNone\u001b[0m, \u001b[38;5;34m512\u001b[0m)                 │         \u001b[38;5;34m131,584\u001b[0m │\n",
              "├──────────────────────────────────────┼─────────────────────────────┼─────────────────┤\n",
              "│ dense_2 (\u001b[38;5;33mDense\u001b[0m)                      │ (\u001b[38;5;45mNone\u001b[0m, \u001b[38;5;34m9\u001b[0m)                   │           \u001b[38;5;34m4,617\u001b[0m │\n",
              "└──────────────────────────────────────┴─────────────────────────────┴─────────────────┘\n"
            ],
            "text/html": [
              "<pre style=\"white-space:pre;overflow-x:auto;line-height:normal;font-family:Menlo,'DejaVu Sans Mono',consolas,'Courier New',monospace\">┏━━━━━━━━━━━━━━━━━━━━━━━━━━━━━━━━━━━━━━┳━━━━━━━━━━━━━━━━━━━━━━━━━━━━━┳━━━━━━━━━━━━━━━━━┓\n",
              "┃<span style=\"font-weight: bold\"> Layer (type)                         </span>┃<span style=\"font-weight: bold\"> Output Shape                </span>┃<span style=\"font-weight: bold\">         Param # </span>┃\n",
              "┡━━━━━━━━━━━━━━━━━━━━━━━━━━━━━━━━━━━━━━╇━━━━━━━━━━━━━━━━━━━━━━━━━━━━━╇━━━━━━━━━━━━━━━━━┩\n",
              "│ conv2d (<span style=\"color: #0087ff; text-decoration-color: #0087ff\">Conv2D</span>)                      │ (<span style=\"color: #00d7ff; text-decoration-color: #00d7ff\">None</span>, <span style=\"color: #00af00; text-decoration-color: #00af00\">222</span>, <span style=\"color: #00af00; text-decoration-color: #00af00\">222</span>, <span style=\"color: #00af00; text-decoration-color: #00af00\">16</span>)        │             <span style=\"color: #00af00; text-decoration-color: #00af00\">448</span> │\n",
              "├──────────────────────────────────────┼─────────────────────────────┼─────────────────┤\n",
              "│ max_pooling2d (<span style=\"color: #0087ff; text-decoration-color: #0087ff\">MaxPooling2D</span>)         │ (<span style=\"color: #00d7ff; text-decoration-color: #00d7ff\">None</span>, <span style=\"color: #00af00; text-decoration-color: #00af00\">111</span>, <span style=\"color: #00af00; text-decoration-color: #00af00\">111</span>, <span style=\"color: #00af00; text-decoration-color: #00af00\">16</span>)        │               <span style=\"color: #00af00; text-decoration-color: #00af00\">0</span> │\n",
              "├──────────────────────────────────────┼─────────────────────────────┼─────────────────┤\n",
              "│ dropout (<span style=\"color: #0087ff; text-decoration-color: #0087ff\">Dropout</span>)                    │ (<span style=\"color: #00d7ff; text-decoration-color: #00d7ff\">None</span>, <span style=\"color: #00af00; text-decoration-color: #00af00\">111</span>, <span style=\"color: #00af00; text-decoration-color: #00af00\">111</span>, <span style=\"color: #00af00; text-decoration-color: #00af00\">16</span>)        │               <span style=\"color: #00af00; text-decoration-color: #00af00\">0</span> │\n",
              "├──────────────────────────────────────┼─────────────────────────────┼─────────────────┤\n",
              "│ conv2d_1 (<span style=\"color: #0087ff; text-decoration-color: #0087ff\">Conv2D</span>)                    │ (<span style=\"color: #00d7ff; text-decoration-color: #00d7ff\">None</span>, <span style=\"color: #00af00; text-decoration-color: #00af00\">109</span>, <span style=\"color: #00af00; text-decoration-color: #00af00\">109</span>, <span style=\"color: #00af00; text-decoration-color: #00af00\">32</span>)        │           <span style=\"color: #00af00; text-decoration-color: #00af00\">4,640</span> │\n",
              "├──────────────────────────────────────┼─────────────────────────────┼─────────────────┤\n",
              "│ max_pooling2d_1 (<span style=\"color: #0087ff; text-decoration-color: #0087ff\">MaxPooling2D</span>)       │ (<span style=\"color: #00d7ff; text-decoration-color: #00d7ff\">None</span>, <span style=\"color: #00af00; text-decoration-color: #00af00\">54</span>, <span style=\"color: #00af00; text-decoration-color: #00af00\">54</span>, <span style=\"color: #00af00; text-decoration-color: #00af00\">32</span>)          │               <span style=\"color: #00af00; text-decoration-color: #00af00\">0</span> │\n",
              "├──────────────────────────────────────┼─────────────────────────────┼─────────────────┤\n",
              "│ dropout_1 (<span style=\"color: #0087ff; text-decoration-color: #0087ff\">Dropout</span>)                  │ (<span style=\"color: #00d7ff; text-decoration-color: #00d7ff\">None</span>, <span style=\"color: #00af00; text-decoration-color: #00af00\">54</span>, <span style=\"color: #00af00; text-decoration-color: #00af00\">54</span>, <span style=\"color: #00af00; text-decoration-color: #00af00\">32</span>)          │               <span style=\"color: #00af00; text-decoration-color: #00af00\">0</span> │\n",
              "├──────────────────────────────────────┼─────────────────────────────┼─────────────────┤\n",
              "│ conv2d_2 (<span style=\"color: #0087ff; text-decoration-color: #0087ff\">Conv2D</span>)                    │ (<span style=\"color: #00d7ff; text-decoration-color: #00d7ff\">None</span>, <span style=\"color: #00af00; text-decoration-color: #00af00\">52</span>, <span style=\"color: #00af00; text-decoration-color: #00af00\">52</span>, <span style=\"color: #00af00; text-decoration-color: #00af00\">64</span>)          │          <span style=\"color: #00af00; text-decoration-color: #00af00\">18,496</span> │\n",
              "├──────────────────────────────────────┼─────────────────────────────┼─────────────────┤\n",
              "│ max_pooling2d_2 (<span style=\"color: #0087ff; text-decoration-color: #0087ff\">MaxPooling2D</span>)       │ (<span style=\"color: #00d7ff; text-decoration-color: #00d7ff\">None</span>, <span style=\"color: #00af00; text-decoration-color: #00af00\">26</span>, <span style=\"color: #00af00; text-decoration-color: #00af00\">26</span>, <span style=\"color: #00af00; text-decoration-color: #00af00\">64</span>)          │               <span style=\"color: #00af00; text-decoration-color: #00af00\">0</span> │\n",
              "├──────────────────────────────────────┼─────────────────────────────┼─────────────────┤\n",
              "│ dropout_2 (<span style=\"color: #0087ff; text-decoration-color: #0087ff\">Dropout</span>)                  │ (<span style=\"color: #00d7ff; text-decoration-color: #00d7ff\">None</span>, <span style=\"color: #00af00; text-decoration-color: #00af00\">26</span>, <span style=\"color: #00af00; text-decoration-color: #00af00\">26</span>, <span style=\"color: #00af00; text-decoration-color: #00af00\">64</span>)          │               <span style=\"color: #00af00; text-decoration-color: #00af00\">0</span> │\n",
              "├──────────────────────────────────────┼─────────────────────────────┼─────────────────┤\n",
              "│ conv2d_3 (<span style=\"color: #0087ff; text-decoration-color: #0087ff\">Conv2D</span>)                    │ (<span style=\"color: #00d7ff; text-decoration-color: #00d7ff\">None</span>, <span style=\"color: #00af00; text-decoration-color: #00af00\">24</span>, <span style=\"color: #00af00; text-decoration-color: #00af00\">24</span>, <span style=\"color: #00af00; text-decoration-color: #00af00\">128</span>)         │          <span style=\"color: #00af00; text-decoration-color: #00af00\">73,856</span> │\n",
              "├──────────────────────────────────────┼─────────────────────────────┼─────────────────┤\n",
              "│ max_pooling2d_3 (<span style=\"color: #0087ff; text-decoration-color: #0087ff\">MaxPooling2D</span>)       │ (<span style=\"color: #00d7ff; text-decoration-color: #00d7ff\">None</span>, <span style=\"color: #00af00; text-decoration-color: #00af00\">12</span>, <span style=\"color: #00af00; text-decoration-color: #00af00\">12</span>, <span style=\"color: #00af00; text-decoration-color: #00af00\">128</span>)         │               <span style=\"color: #00af00; text-decoration-color: #00af00\">0</span> │\n",
              "├──────────────────────────────────────┼─────────────────────────────┼─────────────────┤\n",
              "│ dropout_3 (<span style=\"color: #0087ff; text-decoration-color: #0087ff\">Dropout</span>)                  │ (<span style=\"color: #00d7ff; text-decoration-color: #00d7ff\">None</span>, <span style=\"color: #00af00; text-decoration-color: #00af00\">12</span>, <span style=\"color: #00af00; text-decoration-color: #00af00\">12</span>, <span style=\"color: #00af00; text-decoration-color: #00af00\">128</span>)         │               <span style=\"color: #00af00; text-decoration-color: #00af00\">0</span> │\n",
              "├──────────────────────────────────────┼─────────────────────────────┼─────────────────┤\n",
              "│ flatten (<span style=\"color: #0087ff; text-decoration-color: #0087ff\">Flatten</span>)                    │ (<span style=\"color: #00d7ff; text-decoration-color: #00d7ff\">None</span>, <span style=\"color: #00af00; text-decoration-color: #00af00\">18432</span>)               │               <span style=\"color: #00af00; text-decoration-color: #00af00\">0</span> │\n",
              "├──────────────────────────────────────┼─────────────────────────────┼─────────────────┤\n",
              "│ dense (<span style=\"color: #0087ff; text-decoration-color: #0087ff\">Dense</span>)                        │ (<span style=\"color: #00d7ff; text-decoration-color: #00d7ff\">None</span>, <span style=\"color: #00af00; text-decoration-color: #00af00\">256</span>)                 │       <span style=\"color: #00af00; text-decoration-color: #00af00\">4,718,848</span> │\n",
              "├──────────────────────────────────────┼─────────────────────────────┼─────────────────┤\n",
              "│ dropout_4 (<span style=\"color: #0087ff; text-decoration-color: #0087ff\">Dropout</span>)                  │ (<span style=\"color: #00d7ff; text-decoration-color: #00d7ff\">None</span>, <span style=\"color: #00af00; text-decoration-color: #00af00\">256</span>)                 │               <span style=\"color: #00af00; text-decoration-color: #00af00\">0</span> │\n",
              "├──────────────────────────────────────┼─────────────────────────────┼─────────────────┤\n",
              "│ dense_1 (<span style=\"color: #0087ff; text-decoration-color: #0087ff\">Dense</span>)                      │ (<span style=\"color: #00d7ff; text-decoration-color: #00d7ff\">None</span>, <span style=\"color: #00af00; text-decoration-color: #00af00\">512</span>)                 │         <span style=\"color: #00af00; text-decoration-color: #00af00\">131,584</span> │\n",
              "├──────────────────────────────────────┼─────────────────────────────┼─────────────────┤\n",
              "│ dense_2 (<span style=\"color: #0087ff; text-decoration-color: #0087ff\">Dense</span>)                      │ (<span style=\"color: #00d7ff; text-decoration-color: #00d7ff\">None</span>, <span style=\"color: #00af00; text-decoration-color: #00af00\">9</span>)                   │           <span style=\"color: #00af00; text-decoration-color: #00af00\">4,617</span> │\n",
              "└──────────────────────────────────────┴─────────────────────────────┴─────────────────┘\n",
              "</pre>\n"
            ]
          },
          "metadata": {}
        },
        {
          "output_type": "display_data",
          "data": {
            "text/plain": [
              "\u001b[1m Total params: \u001b[0m\u001b[38;5;34m4,952,489\u001b[0m (18.89 MB)\n"
            ],
            "text/html": [
              "<pre style=\"white-space:pre;overflow-x:auto;line-height:normal;font-family:Menlo,'DejaVu Sans Mono',consolas,'Courier New',monospace\"><span style=\"font-weight: bold\"> Total params: </span><span style=\"color: #00af00; text-decoration-color: #00af00\">4,952,489</span> (18.89 MB)\n",
              "</pre>\n"
            ]
          },
          "metadata": {}
        },
        {
          "output_type": "display_data",
          "data": {
            "text/plain": [
              "\u001b[1m Trainable params: \u001b[0m\u001b[38;5;34m4,952,489\u001b[0m (18.89 MB)\n"
            ],
            "text/html": [
              "<pre style=\"white-space:pre;overflow-x:auto;line-height:normal;font-family:Menlo,'DejaVu Sans Mono',consolas,'Courier New',monospace\"><span style=\"font-weight: bold\"> Trainable params: </span><span style=\"color: #00af00; text-decoration-color: #00af00\">4,952,489</span> (18.89 MB)\n",
              "</pre>\n"
            ]
          },
          "metadata": {}
        },
        {
          "output_type": "display_data",
          "data": {
            "text/plain": [
              "\u001b[1m Non-trainable params: \u001b[0m\u001b[38;5;34m0\u001b[0m (0.00 B)\n"
            ],
            "text/html": [
              "<pre style=\"white-space:pre;overflow-x:auto;line-height:normal;font-family:Menlo,'DejaVu Sans Mono',consolas,'Courier New',monospace\"><span style=\"font-weight: bold\"> Non-trainable params: </span><span style=\"color: #00af00; text-decoration-color: #00af00\">0</span> (0.00 B)\n",
              "</pre>\n"
            ]
          },
          "metadata": {}
        }
      ],
      "source": [
        "# Print a summary to check total and layer-specific parameters\n",
        "model.summary()"
      ]
    },
    {
      "cell_type": "markdown",
      "source": [
        "## Configuring the Optimizer and Compiling the Model"
      ],
      "metadata": {
        "id": "qSjynhAN9G0U"
      }
    },
    {
      "cell_type": "code",
      "execution_count": null,
      "metadata": {
        "id": "fqMSwOCQeNjA"
      },
      "outputs": [],
      "source": [
        "from tensorflow.keras.optimizers import Adam\n",
        "\n",
        "optimizer = Adam(learning_rate=0.0001)\n",
        "\n",
        "model.compile(optimizer=optimizer,\n",
        "              loss='sparse_categorical_crossentropy',\n",
        "              metrics=['accuracy'])"
      ]
    },
    {
      "cell_type": "markdown",
      "source": [
        "## Implementing Early Stopping Callback for Training Optimization"
      ],
      "metadata": {
        "id": "OXjAyojw9Q9o"
      }
    },
    {
      "cell_type": "code",
      "execution_count": null,
      "metadata": {
        "id": "rFXXXf5rR3iy"
      },
      "outputs": [],
      "source": [
        "class EarlyStoppingCallback(tf.keras.callbacks.Callback):\n",
        "    def on_epoch_end(self, epoch, logs=None):\n",
        "        train_accuracy = logs.get('accuracy')\n",
        "        val_accuracy = logs.get('val_accuracy')\n",
        "\n",
        "        if train_accuracy is not None and val_accuracy is not None:\n",
        "            if train_accuracy >= 0.99 and val_accuracy >= 0.99:\n",
        "                self.model.stop_training = True\n",
        "\n",
        "                print(\"\\nReached 99% train accuracy and 99% validation accuracy, so cancelling training!\")"
      ]
    },
    {
      "cell_type": "markdown",
      "source": [
        "## Setting Up Model Checkpoint Callback to Save Best Weights"
      ],
      "metadata": {
        "id": "Gy4fzvhQ9YU0"
      }
    },
    {
      "cell_type": "code",
      "execution_count": null,
      "metadata": {
        "id": "SDiN5kXKOkdx"
      },
      "outputs": [],
      "source": [
        "# Define the path for saving model weights\n",
        "checkpoint_path = \"/content/drive/MyDrive/model1_same_checkpoint.weights.h5\"\n",
        "\n",
        "# Callback to save the model after each epoch\n",
        "checkpoint_callback = ModelCheckpoint(\n",
        "    filepath=checkpoint_path,\n",
        "    save_weights_only=True,\n",
        "    save_best_only=True,\n",
        "    monitor='val_accuracy',\n",
        "    mode='max',\n",
        "    verbose=1\n",
        ")"
      ]
    },
    {
      "cell_type": "markdown",
      "source": [
        "## Training the Model with Early Stopping and Checkpoint Callbacks"
      ],
      "metadata": {
        "id": "P451iVfh9wwT"
      }
    },
    {
      "cell_type": "code",
      "execution_count": null,
      "metadata": {
        "colab": {
          "base_uri": "https://localhost:8080/"
        },
        "id": "bqY802KhR9yi",
        "outputId": "9e97a253-fb29-482e-ef0f-cc22052b81b1"
      },
      "outputs": [
        {
          "output_type": "stream",
          "name": "stdout",
          "text": [
            "Epoch 1/150\n"
          ]
        },
        {
          "output_type": "stream",
          "name": "stderr",
          "text": [
            "/usr/local/lib/python3.10/dist-packages/keras/src/trainers/data_adapters/py_dataset_adapter.py:122: UserWarning: Your `PyDataset` class should call `super().__init__(**kwargs)` in its constructor. `**kwargs` can include `workers`, `use_multiprocessing`, `max_queue_size`. Do not pass these arguments to `fit()`, as they will be ignored.\n",
            "  self._warn_if_super_not_called()\n"
          ]
        },
        {
          "output_type": "stream",
          "name": "stdout",
          "text": [
            "\u001b[1m37/38\u001b[0m \u001b[32m━━━━━━━━━━━━━━━━━━━\u001b[0m\u001b[37m━\u001b[0m \u001b[1m8s\u001b[0m 9s/step - accuracy: 0.1975 - loss: 3.0026 \n",
            "Epoch 1: val_accuracy improved from -inf to 0.18750, saving model to /content/drive/MyDrive/model1_same_checkpoint.weights.h5\n",
            "\u001b[1m38/38\u001b[0m \u001b[32m━━━━━━━━━━━━━━━━━━━━\u001b[0m\u001b[37m\u001b[0m \u001b[1m515s\u001b[0m 11s/step - accuracy: 0.1986 - loss: 2.9962 - val_accuracy: 0.1875 - val_loss: 2.9680\n",
            "Epoch 2/150\n",
            "\u001b[1m37/38\u001b[0m \u001b[32m━━━━━━━━━━━━━━━━━━━\u001b[0m\u001b[37m━\u001b[0m \u001b[1m0s\u001b[0m 434ms/step - accuracy: 0.2706 - loss: 2.6547\n",
            "Epoch 2: val_accuracy improved from 0.18750 to 0.42500, saving model to /content/drive/MyDrive/model1_same_checkpoint.weights.h5\n",
            "\u001b[1m38/38\u001b[0m \u001b[32m━━━━━━━━━━━━━━━━━━━━\u001b[0m\u001b[37m\u001b[0m \u001b[1m22s\u001b[0m 490ms/step - accuracy: 0.2716 - loss: 2.6524 - val_accuracy: 0.4250 - val_loss: 2.8525\n",
            "Epoch 3/150\n",
            "\u001b[1m37/38\u001b[0m \u001b[32m━━━━━━━━━━━━━━━━━━━\u001b[0m\u001b[37m━\u001b[0m \u001b[1m0s\u001b[0m 438ms/step - accuracy: 0.3526 - loss: 2.4780\n",
            "Epoch 3: val_accuracy improved from 0.42500 to 0.45417, saving model to /content/drive/MyDrive/model1_same_checkpoint.weights.h5\n",
            "\u001b[1m38/38\u001b[0m \u001b[32m━━━━━━━━━━━━━━━━━━━━\u001b[0m\u001b[37m\u001b[0m \u001b[1m23s\u001b[0m 495ms/step - accuracy: 0.3547 - loss: 2.4733 - val_accuracy: 0.4542 - val_loss: 2.6521\n",
            "Epoch 4/150\n",
            "\u001b[1m37/38\u001b[0m \u001b[32m━━━━━━━━━━━━━━━━━━━\u001b[0m\u001b[37m━\u001b[0m \u001b[1m0s\u001b[0m 440ms/step - accuracy: 0.4138 - loss: 2.2721\n",
            "Epoch 4: val_accuracy did not improve from 0.45417\n",
            "\u001b[1m38/38\u001b[0m \u001b[32m━━━━━━━━━━━━━━━━━━━━\u001b[0m\u001b[37m\u001b[0m \u001b[1m21s\u001b[0m 474ms/step - accuracy: 0.4148 - loss: 2.2692 - val_accuracy: 0.4542 - val_loss: 2.5277\n",
            "Epoch 5/150\n",
            "\u001b[1m37/38\u001b[0m \u001b[32m━━━━━━━━━━━━━━━━━━━\u001b[0m\u001b[37m━\u001b[0m \u001b[1m0s\u001b[0m 443ms/step - accuracy: 0.4560 - loss: 2.1267\n",
            "Epoch 5: val_accuracy improved from 0.45417 to 0.51667, saving model to /content/drive/MyDrive/model1_same_checkpoint.weights.h5\n",
            "\u001b[1m38/38\u001b[0m \u001b[32m━━━━━━━━━━━━━━━━━━━━\u001b[0m\u001b[37m\u001b[0m \u001b[1m43s\u001b[0m 538ms/step - accuracy: 0.4561 - loss: 2.1239 - val_accuracy: 0.5167 - val_loss: 2.4164\n",
            "Epoch 6/150\n",
            "\u001b[1m37/38\u001b[0m \u001b[32m━━━━━━━━━━━━━━━━━━━\u001b[0m\u001b[37m━\u001b[0m \u001b[1m0s\u001b[0m 452ms/step - accuracy: 0.4667 - loss: 2.0450\n",
            "Epoch 6: val_accuracy did not improve from 0.51667\n",
            "\u001b[1m38/38\u001b[0m \u001b[32m━━━━━━━━━━━━━━━━━━━━\u001b[0m\u001b[37m\u001b[0m \u001b[1m39s\u001b[0m 481ms/step - accuracy: 0.4665 - loss: 2.0434 - val_accuracy: 0.4667 - val_loss: 2.3113\n",
            "Epoch 7/150\n",
            "\u001b[1m37/38\u001b[0m \u001b[32m━━━━━━━━━━━━━━━━━━━\u001b[0m\u001b[37m━\u001b[0m \u001b[1m0s\u001b[0m 442ms/step - accuracy: 0.5183 - loss: 1.9398\n",
            "Epoch 7: val_accuracy improved from 0.51667 to 0.53750, saving model to /content/drive/MyDrive/model1_same_checkpoint.weights.h5\n",
            "\u001b[1m38/38\u001b[0m \u001b[32m━━━━━━━━━━━━━━━━━━━━\u001b[0m\u001b[37m\u001b[0m \u001b[1m42s\u001b[0m 506ms/step - accuracy: 0.5182 - loss: 1.9391 - val_accuracy: 0.5375 - val_loss: 2.2919\n",
            "Epoch 8/150\n",
            "\u001b[1m37/38\u001b[0m \u001b[32m━━━━━━━━━━━━━━━━━━━\u001b[0m\u001b[37m━\u001b[0m \u001b[1m0s\u001b[0m 435ms/step - accuracy: 0.4986 - loss: 1.8622\n",
            "Epoch 8: val_accuracy did not improve from 0.53750\n",
            "\u001b[1m38/38\u001b[0m \u001b[32m━━━━━━━━━━━━━━━━━━━━\u001b[0m\u001b[37m\u001b[0m \u001b[1m21s\u001b[0m 468ms/step - accuracy: 0.4985 - loss: 1.8624 - val_accuracy: 0.5083 - val_loss: 2.1647\n",
            "Epoch 9/150\n",
            "\u001b[1m37/38\u001b[0m \u001b[32m━━━━━━━━━━━━━━━━━━━\u001b[0m\u001b[37m━\u001b[0m \u001b[1m0s\u001b[0m 437ms/step - accuracy: 0.4968 - loss: 1.8327\n",
            "Epoch 9: val_accuracy did not improve from 0.53750\n",
            "\u001b[1m38/38\u001b[0m \u001b[32m━━━━━━━━━━━━━━━━━━━━\u001b[0m\u001b[37m\u001b[0m \u001b[1m41s\u001b[0m 477ms/step - accuracy: 0.4965 - loss: 1.8326 - val_accuracy: 0.5125 - val_loss: 2.0756\n",
            "Epoch 10/150\n",
            "\u001b[1m37/38\u001b[0m \u001b[32m━━━━━━━━━━━━━━━━━━━\u001b[0m\u001b[37m━\u001b[0m \u001b[1m0s\u001b[0m 447ms/step - accuracy: 0.5013 - loss: 1.8415\n",
            "Epoch 10: val_accuracy did not improve from 0.53750\n",
            "\u001b[1m38/38\u001b[0m \u001b[32m━━━━━━━━━━━━━━━━━━━━\u001b[0m\u001b[37m\u001b[0m \u001b[1m41s\u001b[0m 476ms/step - accuracy: 0.5013 - loss: 1.8391 - val_accuracy: 0.5000 - val_loss: 2.0631\n",
            "Epoch 11/150\n",
            "\u001b[1m37/38\u001b[0m \u001b[32m━━━━━━━━━━━━━━━━━━━\u001b[0m\u001b[37m━\u001b[0m \u001b[1m0s\u001b[0m 442ms/step - accuracy: 0.5250 - loss: 1.7931\n",
            "Epoch 11: val_accuracy improved from 0.53750 to 0.56667, saving model to /content/drive/MyDrive/model1_same_checkpoint.weights.h5\n",
            "\u001b[1m38/38\u001b[0m \u001b[32m━━━━━━━━━━━━━━━━━━━━\u001b[0m\u001b[37m\u001b[0m \u001b[1m42s\u001b[0m 509ms/step - accuracy: 0.5252 - loss: 1.7906 - val_accuracy: 0.5667 - val_loss: 2.0128\n",
            "Epoch 12/150\n",
            "\u001b[1m37/38\u001b[0m \u001b[32m━━━━━━━━━━━━━━━━━━━\u001b[0m\u001b[37m━\u001b[0m \u001b[1m0s\u001b[0m 431ms/step - accuracy: 0.5236 - loss: 1.7007\n",
            "Epoch 12: val_accuracy did not improve from 0.56667\n",
            "\u001b[1m38/38\u001b[0m \u001b[32m━━━━━━━━━━━━━━━━━━━━\u001b[0m\u001b[37m\u001b[0m \u001b[1m40s\u001b[0m 460ms/step - accuracy: 0.5228 - loss: 1.7019 - val_accuracy: 0.5667 - val_loss: 2.0031\n",
            "Epoch 13/150\n",
            "\u001b[1m37/38\u001b[0m \u001b[32m━━━━━━━━━━━━━━━━━━━\u001b[0m\u001b[37m━\u001b[0m \u001b[1m0s\u001b[0m 427ms/step - accuracy: 0.5090 - loss: 1.6993\n",
            "Epoch 13: val_accuracy did not improve from 0.56667\n",
            "\u001b[1m38/38\u001b[0m \u001b[32m━━━━━━━━━━━━━━━━━━━━\u001b[0m\u001b[37m\u001b[0m \u001b[1m41s\u001b[0m 457ms/step - accuracy: 0.5096 - loss: 1.6988 - val_accuracy: 0.5417 - val_loss: 1.9498\n",
            "Epoch 14/150\n",
            "\u001b[1m37/38\u001b[0m \u001b[32m━━━━━━━━━━━━━━━━━━━\u001b[0m\u001b[37m━\u001b[0m \u001b[1m0s\u001b[0m 430ms/step - accuracy: 0.5397 - loss: 1.6788\n",
            "Epoch 14: val_accuracy did not improve from 0.56667\n",
            "\u001b[1m38/38\u001b[0m \u001b[32m━━━━━━━━━━━━━━━━━━━━\u001b[0m\u001b[37m\u001b[0m \u001b[1m41s\u001b[0m 459ms/step - accuracy: 0.5398 - loss: 1.6776 - val_accuracy: 0.5167 - val_loss: 1.8969\n",
            "Epoch 15/150\n",
            "\u001b[1m37/38\u001b[0m \u001b[32m━━━━━━━━━━━━━━━━━━━\u001b[0m\u001b[37m━\u001b[0m \u001b[1m0s\u001b[0m 432ms/step - accuracy: 0.5325 - loss: 1.6117\n",
            "Epoch 15: val_accuracy did not improve from 0.56667\n",
            "\u001b[1m38/38\u001b[0m \u001b[32m━━━━━━━━━━━━━━━━━━━━\u001b[0m\u001b[37m\u001b[0m \u001b[1m21s\u001b[0m 471ms/step - accuracy: 0.5327 - loss: 1.6118 - val_accuracy: 0.5458 - val_loss: 1.8840\n",
            "Epoch 16/150\n",
            "\u001b[1m37/38\u001b[0m \u001b[32m━━━━━━━━━━━━━━━━━━━\u001b[0m\u001b[37m━\u001b[0m \u001b[1m0s\u001b[0m 430ms/step - accuracy: 0.5318 - loss: 1.6107\n",
            "Epoch 16: val_accuracy improved from 0.56667 to 0.58333, saving model to /content/drive/MyDrive/model1_same_checkpoint.weights.h5\n",
            "\u001b[1m38/38\u001b[0m \u001b[32m━━━━━━━━━━━━━━━━━━━━\u001b[0m\u001b[37m\u001b[0m \u001b[1m23s\u001b[0m 494ms/step - accuracy: 0.5326 - loss: 1.6091 - val_accuracy: 0.5833 - val_loss: 1.8270\n",
            "Epoch 17/150\n",
            "\u001b[1m37/38\u001b[0m \u001b[32m━━━━━━━━━━━━━━━━━━━\u001b[0m\u001b[37m━\u001b[0m \u001b[1m0s\u001b[0m 426ms/step - accuracy: 0.5808 - loss: 1.5015\n",
            "Epoch 17: val_accuracy improved from 0.58333 to 0.58750, saving model to /content/drive/MyDrive/model1_same_checkpoint.weights.h5\n",
            "\u001b[1m38/38\u001b[0m \u001b[32m━━━━━━━━━━━━━━━━━━━━\u001b[0m\u001b[37m\u001b[0m \u001b[1m40s\u001b[0m 490ms/step - accuracy: 0.5797 - loss: 1.5038 - val_accuracy: 0.5875 - val_loss: 1.7772\n",
            "Epoch 18/150\n",
            "\u001b[1m37/38\u001b[0m \u001b[32m━━━━━━━━━━━━━━━━━━━\u001b[0m\u001b[37m━\u001b[0m \u001b[1m0s\u001b[0m 445ms/step - accuracy: 0.5772 - loss: 1.5352\n",
            "Epoch 18: val_accuracy did not improve from 0.58750\n",
            "\u001b[1m38/38\u001b[0m \u001b[32m━━━━━━━━━━━━━━━━━━━━\u001b[0m\u001b[37m\u001b[0m \u001b[1m22s\u001b[0m 473ms/step - accuracy: 0.5762 - loss: 1.5362 - val_accuracy: 0.5708 - val_loss: 1.8043\n",
            "Epoch 19/150\n",
            "\u001b[1m37/38\u001b[0m \u001b[32m━━━━━━━━━━━━━━━━━━━\u001b[0m\u001b[37m━\u001b[0m \u001b[1m0s\u001b[0m 428ms/step - accuracy: 0.5541 - loss: 1.5168\n",
            "Epoch 19: val_accuracy improved from 0.58750 to 0.60833, saving model to /content/drive/MyDrive/model1_same_checkpoint.weights.h5\n",
            "\u001b[1m38/38\u001b[0m \u001b[32m━━━━━━━━━━━━━━━━━━━━\u001b[0m\u001b[37m\u001b[0m \u001b[1m42s\u001b[0m 494ms/step - accuracy: 0.5548 - loss: 1.5162 - val_accuracy: 0.6083 - val_loss: 1.6691\n",
            "Epoch 20/150\n",
            "\u001b[1m37/38\u001b[0m \u001b[32m━━━━━━━━━━━━━━━━━━━\u001b[0m\u001b[37m━\u001b[0m \u001b[1m0s\u001b[0m 431ms/step - accuracy: 0.5806 - loss: 1.4660\n",
            "Epoch 20: val_accuracy improved from 0.60833 to 0.62083, saving model to /content/drive/MyDrive/model1_same_checkpoint.weights.h5\n",
            "\u001b[1m38/38\u001b[0m \u001b[32m━━━━━━━━━━━━━━━━━━━━\u001b[0m\u001b[37m\u001b[0m \u001b[1m41s\u001b[0m 502ms/step - accuracy: 0.5807 - loss: 1.4661 - val_accuracy: 0.6208 - val_loss: 1.6699\n",
            "Epoch 21/150\n",
            "\u001b[1m37/38\u001b[0m \u001b[32m━━━━━━━━━━━━━━━━━━━\u001b[0m\u001b[37m━\u001b[0m \u001b[1m0s\u001b[0m 444ms/step - accuracy: 0.5892 - loss: 1.4866\n",
            "Epoch 21: val_accuracy did not improve from 0.62083\n",
            "\u001b[1m38/38\u001b[0m \u001b[32m━━━━━━━━━━━━━━━━━━━━\u001b[0m\u001b[37m\u001b[0m \u001b[1m22s\u001b[0m 486ms/step - accuracy: 0.5892 - loss: 1.4856 - val_accuracy: 0.6208 - val_loss: 1.6612\n",
            "Epoch 22/150\n",
            "\u001b[1m37/38\u001b[0m \u001b[32m━━━━━━━━━━━━━━━━━━━\u001b[0m\u001b[37m━\u001b[0m \u001b[1m0s\u001b[0m 465ms/step - accuracy: 0.5956 - loss: 1.4623\n",
            "Epoch 22: val_accuracy improved from 0.62083 to 0.62917, saving model to /content/drive/MyDrive/model1_same_checkpoint.weights.h5\n",
            "\u001b[1m38/38\u001b[0m \u001b[32m━━━━━━━━━━━━━━━━━━━━\u001b[0m\u001b[37m\u001b[0m \u001b[1m42s\u001b[0m 530ms/step - accuracy: 0.5955 - loss: 1.4620 - val_accuracy: 0.6292 - val_loss: 1.6322\n",
            "Epoch 23/150\n",
            "\u001b[1m37/38\u001b[0m \u001b[32m━━━━━━━━━━━━━━━━━━━\u001b[0m\u001b[37m━\u001b[0m \u001b[1m0s\u001b[0m 445ms/step - accuracy: 0.6098 - loss: 1.3906\n",
            "Epoch 23: val_accuracy did not improve from 0.62917\n",
            "\u001b[1m38/38\u001b[0m \u001b[32m━━━━━━━━━━━━━━━━━━━━\u001b[0m\u001b[37m\u001b[0m \u001b[1m21s\u001b[0m 474ms/step - accuracy: 0.6090 - loss: 1.3926 - val_accuracy: 0.6083 - val_loss: 1.6269\n",
            "Epoch 24/150\n",
            "\u001b[1m38/38\u001b[0m \u001b[32m━━━━━━━━━━━━━━━━━━━━\u001b[0m\u001b[37m\u001b[0m \u001b[1m0s\u001b[0m 423ms/step - accuracy: 0.5718 - loss: 1.4653\n",
            "Epoch 24: val_accuracy improved from 0.62917 to 0.63333, saving model to /content/drive/MyDrive/model1_same_checkpoint.weights.h5\n",
            "\u001b[1m38/38\u001b[0m \u001b[32m━━━━━━━━━━━━━━━━━━━━\u001b[0m\u001b[37m\u001b[0m \u001b[1m24s\u001b[0m 503ms/step - accuracy: 0.5722 - loss: 1.4642 - val_accuracy: 0.6333 - val_loss: 1.5808\n",
            "Epoch 25/150\n",
            "\u001b[1m37/38\u001b[0m \u001b[32m━━━━━━━━━━━━━━━━━━━\u001b[0m\u001b[37m━\u001b[0m \u001b[1m0s\u001b[0m 439ms/step - accuracy: 0.6107 - loss: 1.4029\n",
            "Epoch 25: val_accuracy did not improve from 0.63333\n",
            "\u001b[1m38/38\u001b[0m \u001b[32m━━━━━━━━━━━━━━━━━━━━\u001b[0m\u001b[37m\u001b[0m \u001b[1m21s\u001b[0m 480ms/step - accuracy: 0.6106 - loss: 1.4029 - val_accuracy: 0.6042 - val_loss: 1.5688\n",
            "Epoch 26/150\n",
            "\u001b[1m37/38\u001b[0m \u001b[32m━━━━━━━━━━━━━━━━━━━\u001b[0m\u001b[37m━\u001b[0m \u001b[1m0s\u001b[0m 430ms/step - accuracy: 0.5939 - loss: 1.3919\n",
            "Epoch 26: val_accuracy did not improve from 0.63333\n",
            "\u001b[1m38/38\u001b[0m \u001b[32m━━━━━━━━━━━━━━━━━━━━\u001b[0m\u001b[37m\u001b[0m \u001b[1m21s\u001b[0m 459ms/step - accuracy: 0.5941 - loss: 1.3917 - val_accuracy: 0.6042 - val_loss: 1.5799\n",
            "Epoch 27/150\n",
            "\u001b[1m37/38\u001b[0m \u001b[32m━━━━━━━━━━━━━━━━━━━\u001b[0m\u001b[37m━\u001b[0m \u001b[1m0s\u001b[0m 428ms/step - accuracy: 0.6233 - loss: 1.3756\n",
            "Epoch 27: val_accuracy did not improve from 0.63333\n",
            "\u001b[1m38/38\u001b[0m \u001b[32m━━━━━━━━━━━━━━━━━━━━\u001b[0m\u001b[37m\u001b[0m \u001b[1m41s\u001b[0m 486ms/step - accuracy: 0.6234 - loss: 1.3751 - val_accuracy: 0.6083 - val_loss: 1.5585\n",
            "Epoch 28/150\n",
            "\u001b[1m37/38\u001b[0m \u001b[32m━━━━━━━━━━━━━━━━━━━\u001b[0m\u001b[37m━\u001b[0m \u001b[1m0s\u001b[0m 427ms/step - accuracy: 0.6249 - loss: 1.3225\n",
            "Epoch 28: val_accuracy improved from 0.63333 to 0.63750, saving model to /content/drive/MyDrive/model1_same_checkpoint.weights.h5\n",
            "\u001b[1m38/38\u001b[0m \u001b[32m━━━━━━━━━━━━━━━━━━━━\u001b[0m\u001b[37m\u001b[0m \u001b[1m24s\u001b[0m 524ms/step - accuracy: 0.6241 - loss: 1.3244 - val_accuracy: 0.6375 - val_loss: 1.5470\n",
            "Epoch 29/150\n",
            "\u001b[1m37/38\u001b[0m \u001b[32m━━━━━━━━━━━━━━━━━━━\u001b[0m\u001b[37m━\u001b[0m \u001b[1m0s\u001b[0m 428ms/step - accuracy: 0.6593 - loss: 1.2978\n",
            "Epoch 29: val_accuracy did not improve from 0.63750\n",
            "\u001b[1m38/38\u001b[0m \u001b[32m━━━━━━━━━━━━━━━━━━━━\u001b[0m\u001b[37m\u001b[0m \u001b[1m38s\u001b[0m 458ms/step - accuracy: 0.6586 - loss: 1.2994 - val_accuracy: 0.6292 - val_loss: 1.4971\n",
            "Epoch 30/150\n",
            "\u001b[1m37/38\u001b[0m \u001b[32m━━━━━━━━━━━━━━━━━━━\u001b[0m\u001b[37m━\u001b[0m \u001b[1m0s\u001b[0m 452ms/step - accuracy: 0.6591 - loss: 1.3129\n",
            "Epoch 30: val_accuracy improved from 0.63750 to 0.67500, saving model to /content/drive/MyDrive/model1_same_checkpoint.weights.h5\n",
            "\u001b[1m38/38\u001b[0m \u001b[32m━━━━━━━━━━━━━━━━━━━━\u001b[0m\u001b[37m\u001b[0m \u001b[1m23s\u001b[0m 541ms/step - accuracy: 0.6587 - loss: 1.3127 - val_accuracy: 0.6750 - val_loss: 1.4896\n",
            "Epoch 31/150\n",
            "\u001b[1m37/38\u001b[0m \u001b[32m━━━━━━━━━━━━━━━━━━━\u001b[0m\u001b[37m━\u001b[0m \u001b[1m0s\u001b[0m 437ms/step - accuracy: 0.6309 - loss: 1.3091\n",
            "Epoch 31: val_accuracy did not improve from 0.67500\n",
            "\u001b[1m38/38\u001b[0m \u001b[32m━━━━━━━━━━━━━━━━━━━━\u001b[0m\u001b[37m\u001b[0m \u001b[1m21s\u001b[0m 467ms/step - accuracy: 0.6317 - loss: 1.3089 - val_accuracy: 0.6542 - val_loss: 1.4842\n",
            "Epoch 32/150\n",
            "\u001b[1m37/38\u001b[0m \u001b[32m━━━━━━━━━━━━━━━━━━━\u001b[0m\u001b[37m━\u001b[0m \u001b[1m0s\u001b[0m 429ms/step - accuracy: 0.6237 - loss: 1.3128\n",
            "Epoch 32: val_accuracy did not improve from 0.67500\n",
            "\u001b[1m38/38\u001b[0m \u001b[32m━━━━━━━━━━━━━━━━━━━━\u001b[0m\u001b[37m\u001b[0m \u001b[1m41s\u001b[0m 463ms/step - accuracy: 0.6245 - loss: 1.3122 - val_accuracy: 0.6667 - val_loss: 1.4637\n",
            "Epoch 33/150\n",
            "\u001b[1m37/38\u001b[0m \u001b[32m━━━━━━━━━━━━━━━━━━━\u001b[0m\u001b[37m━\u001b[0m \u001b[1m0s\u001b[0m 446ms/step - accuracy: 0.6480 - loss: 1.2769\n",
            "Epoch 33: val_accuracy improved from 0.67500 to 0.68333, saving model to /content/drive/MyDrive/model1_same_checkpoint.weights.h5\n",
            "\u001b[1m38/38\u001b[0m \u001b[32m━━━━━━━━━━━━━━━━━━━━\u001b[0m\u001b[37m\u001b[0m \u001b[1m43s\u001b[0m 518ms/step - accuracy: 0.6475 - loss: 1.2770 - val_accuracy: 0.6833 - val_loss: 1.4329\n",
            "Epoch 34/150\n",
            "\u001b[1m37/38\u001b[0m \u001b[32m━━━━━━━━━━━━━━━━━━━\u001b[0m\u001b[37m━\u001b[0m \u001b[1m0s\u001b[0m 433ms/step - accuracy: 0.6654 - loss: 1.2501\n",
            "Epoch 34: val_accuracy did not improve from 0.68333\n",
            "\u001b[1m38/38\u001b[0m \u001b[32m━━━━━━━━━━━━━━━━━━━━\u001b[0m\u001b[37m\u001b[0m \u001b[1m21s\u001b[0m 462ms/step - accuracy: 0.6649 - loss: 1.2512 - val_accuracy: 0.6375 - val_loss: 1.4403\n",
            "Epoch 35/150\n",
            "\u001b[1m37/38\u001b[0m \u001b[32m━━━━━━━━━━━━━━━━━━━\u001b[0m\u001b[37m━\u001b[0m \u001b[1m0s\u001b[0m 436ms/step - accuracy: 0.6397 - loss: 1.2493\n",
            "Epoch 35: val_accuracy did not improve from 0.68333\n",
            "\u001b[1m38/38\u001b[0m \u001b[32m━━━━━━━━━━━━━━━━━━━━\u001b[0m\u001b[37m\u001b[0m \u001b[1m22s\u001b[0m 467ms/step - accuracy: 0.6402 - loss: 1.2501 - val_accuracy: 0.6333 - val_loss: 1.4437\n",
            "Epoch 36/150\n",
            "\u001b[1m37/38\u001b[0m \u001b[32m━━━━━━━━━━━━━━━━━━━\u001b[0m\u001b[37m━\u001b[0m \u001b[1m0s\u001b[0m 426ms/step - accuracy: 0.6627 - loss: 1.2465\n",
            "Epoch 36: val_accuracy did not improve from 0.68333\n",
            "\u001b[1m38/38\u001b[0m \u001b[32m━━━━━━━━━━━━━━━━━━━━\u001b[0m\u001b[37m\u001b[0m \u001b[1m41s\u001b[0m 455ms/step - accuracy: 0.6617 - loss: 1.2476 - val_accuracy: 0.6458 - val_loss: 1.4099\n",
            "Epoch 37/150\n",
            "\u001b[1m37/38\u001b[0m \u001b[32m━━━━━━━━━━━━━━━━━━━\u001b[0m\u001b[37m━\u001b[0m \u001b[1m0s\u001b[0m 431ms/step - accuracy: 0.6602 - loss: 1.2294\n",
            "Epoch 37: val_accuracy improved from 0.68333 to 0.70833, saving model to /content/drive/MyDrive/model1_same_checkpoint.weights.h5\n",
            "\u001b[1m38/38\u001b[0m \u001b[32m━━━━━━━━━━━━━━━━━━━━\u001b[0m\u001b[37m\u001b[0m \u001b[1m22s\u001b[0m 500ms/step - accuracy: 0.6605 - loss: 1.2301 - val_accuracy: 0.7083 - val_loss: 1.3936\n",
            "Epoch 38/150\n",
            "\u001b[1m37/38\u001b[0m \u001b[32m━━━━━━━━━━━━━━━━━━━\u001b[0m\u001b[37m━\u001b[0m \u001b[1m0s\u001b[0m 434ms/step - accuracy: 0.6810 - loss: 1.2066\n",
            "Epoch 38: val_accuracy did not improve from 0.70833\n",
            "\u001b[1m38/38\u001b[0m \u001b[32m━━━━━━━━━━━━━━━━━━━━\u001b[0m\u001b[37m\u001b[0m \u001b[1m21s\u001b[0m 462ms/step - accuracy: 0.6799 - loss: 1.2079 - val_accuracy: 0.6958 - val_loss: 1.3630\n",
            "Epoch 39/150\n",
            "\u001b[1m37/38\u001b[0m \u001b[32m━━━━━━━━━━━━━━━━━━━\u001b[0m\u001b[37m━\u001b[0m \u001b[1m0s\u001b[0m 421ms/step - accuracy: 0.6682 - loss: 1.2010\n",
            "Epoch 39: val_accuracy did not improve from 0.70833\n",
            "\u001b[1m38/38\u001b[0m \u001b[32m━━━━━━━━━━━━━━━━━━━━\u001b[0m\u001b[37m\u001b[0m \u001b[1m40s\u001b[0m 451ms/step - accuracy: 0.6689 - loss: 1.2004 - val_accuracy: 0.6750 - val_loss: 1.3418\n",
            "Epoch 40/150\n",
            "\u001b[1m37/38\u001b[0m \u001b[32m━━━━━━━━━━━━━━━━━━━\u001b[0m\u001b[37m━\u001b[0m \u001b[1m0s\u001b[0m 434ms/step - accuracy: 0.6710 - loss: 1.1858\n",
            "Epoch 40: val_accuracy did not improve from 0.70833\n",
            "\u001b[1m38/38\u001b[0m \u001b[32m━━━━━━━━━━━━━━━━━━━━\u001b[0m\u001b[37m\u001b[0m \u001b[1m22s\u001b[0m 463ms/step - accuracy: 0.6707 - loss: 1.1867 - val_accuracy: 0.7000 - val_loss: 1.3351\n",
            "Epoch 41/150\n",
            "\u001b[1m37/38\u001b[0m \u001b[32m━━━━━━━━━━━━━━━━━━━\u001b[0m\u001b[37m━\u001b[0m \u001b[1m0s\u001b[0m 430ms/step - accuracy: 0.6932 - loss: 1.1839\n",
            "Epoch 41: val_accuracy did not improve from 0.70833\n",
            "\u001b[1m38/38\u001b[0m \u001b[32m━━━━━━━━━━━━━━━━━━━━\u001b[0m\u001b[37m\u001b[0m \u001b[1m41s\u001b[0m 461ms/step - accuracy: 0.6927 - loss: 1.1842 - val_accuracy: 0.7000 - val_loss: 1.3156\n",
            "Epoch 42/150\n",
            "\u001b[1m37/38\u001b[0m \u001b[32m━━━━━━━━━━━━━━━━━━━\u001b[0m\u001b[37m━\u001b[0m \u001b[1m0s\u001b[0m 428ms/step - accuracy: 0.6612 - loss: 1.2141\n",
            "Epoch 42: val_accuracy improved from 0.70833 to 0.71250, saving model to /content/drive/MyDrive/model1_same_checkpoint.weights.h5\n",
            "\u001b[1m38/38\u001b[0m \u001b[32m━━━━━━━━━━━━━━━━━━━━\u001b[0m\u001b[37m\u001b[0m \u001b[1m41s\u001b[0m 496ms/step - accuracy: 0.6613 - loss: 1.2135 - val_accuracy: 0.7125 - val_loss: 1.3302\n",
            "Epoch 43/150\n",
            "\u001b[1m37/38\u001b[0m \u001b[32m━━━━━━━━━━━━━━━━━━━\u001b[0m\u001b[37m━\u001b[0m \u001b[1m0s\u001b[0m 429ms/step - accuracy: 0.7140 - loss: 1.1843\n",
            "Epoch 43: val_accuracy did not improve from 0.71250\n",
            "\u001b[1m38/38\u001b[0m \u001b[32m━━━━━━━━━━━━━━━━━━━━\u001b[0m\u001b[37m\u001b[0m \u001b[1m40s\u001b[0m 460ms/step - accuracy: 0.7131 - loss: 1.1843 - val_accuracy: 0.6875 - val_loss: 1.3227\n",
            "Epoch 44/150\n",
            "\u001b[1m37/38\u001b[0m \u001b[32m━━━━━━━━━━━━━━━━━━━\u001b[0m\u001b[37m━\u001b[0m \u001b[1m0s\u001b[0m 436ms/step - accuracy: 0.6741 - loss: 1.1904\n",
            "Epoch 44: val_accuracy did not improve from 0.71250\n",
            "\u001b[1m38/38\u001b[0m \u001b[32m━━━━━━━━━━━━━━━━━━━━\u001b[0m\u001b[37m\u001b[0m \u001b[1m42s\u001b[0m 475ms/step - accuracy: 0.6753 - loss: 1.1895 - val_accuracy: 0.6917 - val_loss: 1.2998\n",
            "Epoch 45/150\n",
            "\u001b[1m37/38\u001b[0m \u001b[32m━━━━━━━━━━━━━━━━━━━\u001b[0m\u001b[37m━\u001b[0m \u001b[1m0s\u001b[0m 437ms/step - accuracy: 0.6897 - loss: 1.1562\n",
            "Epoch 45: val_accuracy improved from 0.71250 to 0.72083, saving model to /content/drive/MyDrive/model1_same_checkpoint.weights.h5\n",
            "\u001b[1m38/38\u001b[0m \u001b[32m━━━━━━━━━━━━━━━━━━━━\u001b[0m\u001b[37m\u001b[0m \u001b[1m23s\u001b[0m 506ms/step - accuracy: 0.6899 - loss: 1.1561 - val_accuracy: 0.7208 - val_loss: 1.2698\n",
            "Epoch 46/150\n",
            "\u001b[1m37/38\u001b[0m \u001b[32m━━━━━━━━━━━━━━━━━━━\u001b[0m\u001b[37m━\u001b[0m \u001b[1m0s\u001b[0m 448ms/step - accuracy: 0.6957 - loss: 1.1573\n",
            "Epoch 46: val_accuracy did not improve from 0.72083\n",
            "\u001b[1m38/38\u001b[0m \u001b[32m━━━━━━━━━━━━━━━━━━━━\u001b[0m\u001b[37m\u001b[0m \u001b[1m23s\u001b[0m 478ms/step - accuracy: 0.6954 - loss: 1.1575 - val_accuracy: 0.7042 - val_loss: 1.2595\n",
            "Epoch 47/150\n",
            "\u001b[1m37/38\u001b[0m \u001b[32m━━━━━━━━━━━━━━━━━━━\u001b[0m\u001b[37m━\u001b[0m \u001b[1m0s\u001b[0m 435ms/step - accuracy: 0.7097 - loss: 1.1732\n",
            "Epoch 47: val_accuracy did not improve from 0.72083\n",
            "\u001b[1m38/38\u001b[0m \u001b[32m━━━━━━━━━━━━━━━━━━━━\u001b[0m\u001b[37m\u001b[0m \u001b[1m42s\u001b[0m 493ms/step - accuracy: 0.7092 - loss: 1.1728 - val_accuracy: 0.6833 - val_loss: 1.2710\n",
            "Epoch 48/150\n",
            "\u001b[1m37/38\u001b[0m \u001b[32m━━━━━━━━━━━━━━━━━━━\u001b[0m\u001b[37m━\u001b[0m \u001b[1m0s\u001b[0m 430ms/step - accuracy: 0.6955 - loss: 1.1333\n",
            "Epoch 48: val_accuracy did not improve from 0.72083\n",
            "\u001b[1m38/38\u001b[0m \u001b[32m━━━━━━━━━━━━━━━━━━━━\u001b[0m\u001b[37m\u001b[0m \u001b[1m39s\u001b[0m 459ms/step - accuracy: 0.6959 - loss: 1.1331 - val_accuracy: 0.7208 - val_loss: 1.2368\n",
            "Epoch 49/150\n",
            "\u001b[1m37/38\u001b[0m \u001b[32m━━━━━━━━━━━━━━━━━━━\u001b[0m\u001b[37m━\u001b[0m \u001b[1m0s\u001b[0m 426ms/step - accuracy: 0.7216 - loss: 1.1195\n",
            "Epoch 49: val_accuracy did not improve from 0.72083\n",
            "\u001b[1m38/38\u001b[0m \u001b[32m━━━━━━━━━━━━━━━━━━━━\u001b[0m\u001b[37m\u001b[0m \u001b[1m40s\u001b[0m 455ms/step - accuracy: 0.7216 - loss: 1.1200 - val_accuracy: 0.6625 - val_loss: 1.2917\n",
            "Epoch 50/150\n",
            "\u001b[1m37/38\u001b[0m \u001b[32m━━━━━━━━━━━━━━━━━━━\u001b[0m\u001b[37m━\u001b[0m \u001b[1m0s\u001b[0m 455ms/step - accuracy: 0.7297 - loss: 1.0891\n",
            "Epoch 50: val_accuracy improved from 0.72083 to 0.72917, saving model to /content/drive/MyDrive/model1_same_checkpoint.weights.h5\n",
            "\u001b[1m38/38\u001b[0m \u001b[32m━━━━━━━━━━━━━━━━━━━━\u001b[0m\u001b[37m\u001b[0m \u001b[1m24s\u001b[0m 531ms/step - accuracy: 0.7284 - loss: 1.0907 - val_accuracy: 0.7292 - val_loss: 1.2225\n",
            "Epoch 51/150\n",
            "\u001b[1m37/38\u001b[0m \u001b[32m━━━━━━━━━━━━━━━━━━━\u001b[0m\u001b[37m━\u001b[0m \u001b[1m0s\u001b[0m 448ms/step - accuracy: 0.7083 - loss: 1.1130\n",
            "Epoch 51: val_accuracy did not improve from 0.72917\n",
            "\u001b[1m38/38\u001b[0m \u001b[32m━━━━━━━━━━━━━━━━━━━━\u001b[0m\u001b[37m\u001b[0m \u001b[1m22s\u001b[0m 479ms/step - accuracy: 0.7082 - loss: 1.1129 - val_accuracy: 0.7250 - val_loss: 1.2256\n",
            "Epoch 52/150\n",
            "\u001b[1m37/38\u001b[0m \u001b[32m━━━━━━━━━━━━━━━━━━━\u001b[0m\u001b[37m━\u001b[0m \u001b[1m0s\u001b[0m 438ms/step - accuracy: 0.7239 - loss: 1.0812\n",
            "Epoch 52: val_accuracy did not improve from 0.72917\n",
            "\u001b[1m38/38\u001b[0m \u001b[32m━━━━━━━━━━━━━━━━━━━━\u001b[0m\u001b[37m\u001b[0m \u001b[1m22s\u001b[0m 468ms/step - accuracy: 0.7236 - loss: 1.0813 - val_accuracy: 0.6917 - val_loss: 1.2426\n",
            "Epoch 53/150\n",
            "\u001b[1m37/38\u001b[0m \u001b[32m━━━━━━━━━━━━━━━━━━━\u001b[0m\u001b[37m━\u001b[0m \u001b[1m0s\u001b[0m 436ms/step - accuracy: 0.7005 - loss: 1.1332\n",
            "Epoch 53: val_accuracy did not improve from 0.72917\n",
            "\u001b[1m38/38\u001b[0m \u001b[32m━━━━━━━━━━━━━━━━━━━━\u001b[0m\u001b[37m\u001b[0m \u001b[1m41s\u001b[0m 467ms/step - accuracy: 0.7013 - loss: 1.1316 - val_accuracy: 0.6917 - val_loss: 1.2159\n",
            "Epoch 54/150\n",
            "\u001b[1m37/38\u001b[0m \u001b[32m━━━━━━━━━━━━━━━━━━━\u001b[0m\u001b[37m━\u001b[0m \u001b[1m0s\u001b[0m 440ms/step - accuracy: 0.7058 - loss: 1.1185\n",
            "Epoch 54: val_accuracy did not improve from 0.72917\n",
            "\u001b[1m38/38\u001b[0m \u001b[32m━━━━━━━━━━━━━━━━━━━━\u001b[0m\u001b[37m\u001b[0m \u001b[1m40s\u001b[0m 468ms/step - accuracy: 0.7067 - loss: 1.1172 - val_accuracy: 0.7250 - val_loss: 1.1751\n",
            "Epoch 55/150\n",
            "\u001b[1m37/38\u001b[0m \u001b[32m━━━━━━━━━━━━━━━━━━━\u001b[0m\u001b[37m━\u001b[0m \u001b[1m0s\u001b[0m 440ms/step - accuracy: 0.7358 - loss: 1.0475\n",
            "Epoch 55: val_accuracy improved from 0.72917 to 0.73750, saving model to /content/drive/MyDrive/model1_same_checkpoint.weights.h5\n",
            "\u001b[1m38/38\u001b[0m \u001b[32m━━━━━━━━━━━━━━━━━━━━\u001b[0m\u001b[37m\u001b[0m \u001b[1m23s\u001b[0m 516ms/step - accuracy: 0.7352 - loss: 1.0490 - val_accuracy: 0.7375 - val_loss: 1.1766\n",
            "Epoch 56/150\n",
            "\u001b[1m37/38\u001b[0m \u001b[32m━━━━━━━━━━━━━━━━━━━\u001b[0m\u001b[37m━\u001b[0m \u001b[1m0s\u001b[0m 451ms/step - accuracy: 0.7188 - loss: 1.0742\n",
            "Epoch 56: val_accuracy did not improve from 0.73750\n",
            "\u001b[1m38/38\u001b[0m \u001b[32m━━━━━━━━━━━━━━━━━━━━\u001b[0m\u001b[37m\u001b[0m \u001b[1m21s\u001b[0m 478ms/step - accuracy: 0.7186 - loss: 1.0750 - val_accuracy: 0.7167 - val_loss: 1.1838\n",
            "Epoch 57/150\n",
            "\u001b[1m37/38\u001b[0m \u001b[32m━━━━━━━━━━━━━━━━━━━\u001b[0m\u001b[37m━\u001b[0m \u001b[1m0s\u001b[0m 435ms/step - accuracy: 0.7062 - loss: 1.0551\n",
            "Epoch 57: val_accuracy did not improve from 0.73750\n",
            "\u001b[1m38/38\u001b[0m \u001b[32m━━━━━━━━━━━━━━━━━━━━\u001b[0m\u001b[37m\u001b[0m \u001b[1m41s\u001b[0m 472ms/step - accuracy: 0.7060 - loss: 1.0566 - val_accuracy: 0.7125 - val_loss: 1.1765\n",
            "Epoch 58/150\n",
            "\u001b[1m37/38\u001b[0m \u001b[32m━━━━━━━━━━━━━━━━━━━\u001b[0m\u001b[37m━\u001b[0m \u001b[1m0s\u001b[0m 429ms/step - accuracy: 0.7401 - loss: 1.0310\n",
            "Epoch 58: val_accuracy improved from 0.73750 to 0.76667, saving model to /content/drive/MyDrive/model1_same_checkpoint.weights.h5\n",
            "\u001b[1m38/38\u001b[0m \u001b[32m━━━━━━━━━━━━━━━━━━━━\u001b[0m\u001b[37m\u001b[0m \u001b[1m23s\u001b[0m 501ms/step - accuracy: 0.7395 - loss: 1.0321 - val_accuracy: 0.7667 - val_loss: 1.1420\n",
            "Epoch 59/150\n",
            "\u001b[1m37/38\u001b[0m \u001b[32m━━━━━━━━━━━━━━━━━━━\u001b[0m\u001b[37m━\u001b[0m \u001b[1m0s\u001b[0m 465ms/step - accuracy: 0.7009 - loss: 1.0926\n",
            "Epoch 59: val_accuracy did not improve from 0.76667\n",
            "\u001b[1m38/38\u001b[0m \u001b[32m━━━━━━━━━━━━━━━━━━━━\u001b[0m\u001b[37m\u001b[0m \u001b[1m22s\u001b[0m 498ms/step - accuracy: 0.7020 - loss: 1.0909 - val_accuracy: 0.7292 - val_loss: 1.1554\n",
            "Epoch 60/150\n",
            "\u001b[1m37/38\u001b[0m \u001b[32m━━━━━━━━━━━━━━━━━━━\u001b[0m\u001b[37m━\u001b[0m \u001b[1m0s\u001b[0m 467ms/step - accuracy: 0.7234 - loss: 1.0147\n",
            "Epoch 60: val_accuracy did not improve from 0.76667\n",
            "\u001b[1m38/38\u001b[0m \u001b[32m━━━━━━━━━━━━━━━━━━━━\u001b[0m\u001b[37m\u001b[0m \u001b[1m41s\u001b[0m 494ms/step - accuracy: 0.7239 - loss: 1.0157 - val_accuracy: 0.7375 - val_loss: 1.1303\n",
            "Epoch 61/150\n",
            "\u001b[1m37/38\u001b[0m \u001b[32m━━━━━━━━━━━━━━━━━━━\u001b[0m\u001b[37m━\u001b[0m \u001b[1m0s\u001b[0m 437ms/step - accuracy: 0.7329 - loss: 1.0605\n",
            "Epoch 61: val_accuracy did not improve from 0.76667\n",
            "\u001b[1m38/38\u001b[0m \u001b[32m━━━━━━━━━━━━━━━━━━━━\u001b[0m\u001b[37m\u001b[0m \u001b[1m21s\u001b[0m 466ms/step - accuracy: 0.7325 - loss: 1.0610 - val_accuracy: 0.7125 - val_loss: 1.1521\n",
            "Epoch 62/150\n",
            "\u001b[1m37/38\u001b[0m \u001b[32m━━━━━━━━━━━━━━━━━━━\u001b[0m\u001b[37m━\u001b[0m \u001b[1m0s\u001b[0m 434ms/step - accuracy: 0.7497 - loss: 1.0409\n",
            "Epoch 62: val_accuracy did not improve from 0.76667\n",
            "\u001b[1m38/38\u001b[0m \u001b[32m━━━━━━━━━━━━━━━━━━━━\u001b[0m\u001b[37m\u001b[0m \u001b[1m22s\u001b[0m 463ms/step - accuracy: 0.7495 - loss: 1.0405 - val_accuracy: 0.7083 - val_loss: 1.1342\n",
            "Epoch 63/150\n",
            "\u001b[1m37/38\u001b[0m \u001b[32m━━━━━━━━━━━━━━━━━━━\u001b[0m\u001b[37m━\u001b[0m \u001b[1m0s\u001b[0m 432ms/step - accuracy: 0.7601 - loss: 0.9819\n",
            "Epoch 63: val_accuracy did not improve from 0.76667\n",
            "\u001b[1m38/38\u001b[0m \u001b[32m━━━━━━━━━━━━━━━━━━━━\u001b[0m\u001b[37m\u001b[0m \u001b[1m21s\u001b[0m 462ms/step - accuracy: 0.7588 - loss: 0.9841 - val_accuracy: 0.7542 - val_loss: 1.1126\n",
            "Epoch 64/150\n",
            "\u001b[1m37/38\u001b[0m \u001b[32m━━━━━━━━━━━━━━━━━━━\u001b[0m\u001b[37m━\u001b[0m \u001b[1m0s\u001b[0m 449ms/step - accuracy: 0.7140 - loss: 1.0710\n",
            "Epoch 64: val_accuracy did not improve from 0.76667\n",
            "\u001b[1m38/38\u001b[0m \u001b[32m━━━━━━━━━━━━━━━━━━━━\u001b[0m\u001b[37m\u001b[0m \u001b[1m43s\u001b[0m 507ms/step - accuracy: 0.7150 - loss: 1.0691 - val_accuracy: 0.7125 - val_loss: 1.1334\n",
            "Epoch 65/150\n",
            "\u001b[1m37/38\u001b[0m \u001b[32m━━━━━━━━━━━━━━━━━━━\u001b[0m\u001b[37m━\u001b[0m \u001b[1m0s\u001b[0m 453ms/step - accuracy: 0.7525 - loss: 1.0264\n",
            "Epoch 65: val_accuracy did not improve from 0.76667\n",
            "\u001b[1m38/38\u001b[0m \u001b[32m━━━━━━━━━━━━━━━━━━━━\u001b[0m\u001b[37m\u001b[0m \u001b[1m40s\u001b[0m 487ms/step - accuracy: 0.7518 - loss: 1.0259 - val_accuracy: 0.7042 - val_loss: 1.1448\n",
            "Epoch 66/150\n",
            "\u001b[1m37/38\u001b[0m \u001b[32m━━━━━━━━━━━━━━━━━━━\u001b[0m\u001b[37m━\u001b[0m \u001b[1m0s\u001b[0m 431ms/step - accuracy: 0.7354 - loss: 1.0427\n",
            "Epoch 66: val_accuracy did not improve from 0.76667\n",
            "\u001b[1m38/38\u001b[0m \u001b[32m━━━━━━━━━━━━━━━━━━━━\u001b[0m\u001b[37m\u001b[0m \u001b[1m21s\u001b[0m 460ms/step - accuracy: 0.7359 - loss: 1.0412 - val_accuracy: 0.7292 - val_loss: 1.1132\n",
            "Epoch 67/150\n",
            "\u001b[1m37/38\u001b[0m \u001b[32m━━━━━━━━━━━━━━━━━━━\u001b[0m\u001b[37m━\u001b[0m \u001b[1m0s\u001b[0m 436ms/step - accuracy: 0.7492 - loss: 0.9717\n",
            "Epoch 67: val_accuracy did not improve from 0.76667\n",
            "\u001b[1m38/38\u001b[0m \u001b[32m━━━━━━━━━━━━━━━━━━━━\u001b[0m\u001b[37m\u001b[0m \u001b[1m41s\u001b[0m 468ms/step - accuracy: 0.7487 - loss: 0.9736 - val_accuracy: 0.7167 - val_loss: 1.1207\n",
            "Epoch 68/150\n",
            "\u001b[1m37/38\u001b[0m \u001b[32m━━━━━━━━━━━━━━━━━━━\u001b[0m\u001b[37m━\u001b[0m \u001b[1m0s\u001b[0m 450ms/step - accuracy: 0.7631 - loss: 0.9968\n",
            "Epoch 68: val_accuracy improved from 0.76667 to 0.77083, saving model to /content/drive/MyDrive/model1_same_checkpoint.weights.h5\n",
            "\u001b[1m38/38\u001b[0m \u001b[32m━━━━━━━━━━━━━━━━━━━━\u001b[0m\u001b[37m\u001b[0m \u001b[1m44s\u001b[0m 534ms/step - accuracy: 0.7624 - loss: 0.9971 - val_accuracy: 0.7708 - val_loss: 1.0894\n",
            "Epoch 69/150\n",
            "\u001b[1m37/38\u001b[0m \u001b[32m━━━━━━━━━━━━━━━━━━━\u001b[0m\u001b[37m━\u001b[0m \u001b[1m0s\u001b[0m 441ms/step - accuracy: 0.7617 - loss: 0.9716\n",
            "Epoch 69: val_accuracy did not improve from 0.77083\n",
            "\u001b[1m38/38\u001b[0m \u001b[32m━━━━━━━━━━━━━━━━━━━━\u001b[0m\u001b[37m\u001b[0m \u001b[1m21s\u001b[0m 470ms/step - accuracy: 0.7603 - loss: 0.9740 - val_accuracy: 0.7167 - val_loss: 1.1331\n",
            "Epoch 70/150\n",
            "\u001b[1m37/38\u001b[0m \u001b[32m━━━━━━━━━━━━━━━━━━━\u001b[0m\u001b[37m━\u001b[0m \u001b[1m0s\u001b[0m 428ms/step - accuracy: 0.7479 - loss: 0.9936\n",
            "Epoch 70: val_accuracy did not improve from 0.77083\n",
            "\u001b[1m38/38\u001b[0m \u001b[32m━━━━━━━━━━━━━━━━━━━━\u001b[0m\u001b[37m\u001b[0m \u001b[1m41s\u001b[0m 487ms/step - accuracy: 0.7477 - loss: 0.9943 - val_accuracy: 0.7125 - val_loss: 1.1106\n",
            "Epoch 71/150\n",
            "\u001b[1m37/38\u001b[0m \u001b[32m━━━━━━━━━━━━━━━━━━━\u001b[0m\u001b[37m━\u001b[0m \u001b[1m0s\u001b[0m 449ms/step - accuracy: 0.7430 - loss: 0.9865\n",
            "Epoch 71: val_accuracy did not improve from 0.77083\n",
            "\u001b[1m38/38\u001b[0m \u001b[32m━━━━━━━━━━━━━━━━━━━━\u001b[0m\u001b[37m\u001b[0m \u001b[1m41s\u001b[0m 487ms/step - accuracy: 0.7440 - loss: 0.9860 - val_accuracy: 0.7208 - val_loss: 1.0726\n",
            "Epoch 72/150\n",
            "\u001b[1m37/38\u001b[0m \u001b[32m━━━━━━━━━━━━━━━━━━━\u001b[0m\u001b[37m━\u001b[0m \u001b[1m0s\u001b[0m 436ms/step - accuracy: 0.7848 - loss: 0.9483\n",
            "Epoch 72: val_accuracy did not improve from 0.77083\n",
            "\u001b[1m38/38\u001b[0m \u001b[32m━━━━━━━━━━━━━━━━━━━━\u001b[0m\u001b[37m\u001b[0m \u001b[1m21s\u001b[0m 466ms/step - accuracy: 0.7839 - loss: 0.9493 - val_accuracy: 0.7542 - val_loss: 1.0380\n",
            "Epoch 73/150\n",
            "\u001b[1m37/38\u001b[0m \u001b[32m━━━━━━━━━━━━━━━━━━━\u001b[0m\u001b[37m━\u001b[0m \u001b[1m0s\u001b[0m 436ms/step - accuracy: 0.7154 - loss: 1.0150\n",
            "Epoch 73: val_accuracy improved from 0.77083 to 0.78333, saving model to /content/drive/MyDrive/model1_same_checkpoint.weights.h5\n",
            "\u001b[1m38/38\u001b[0m \u001b[32m━━━━━━━━━━━━━━━━━━━━\u001b[0m\u001b[37m\u001b[0m \u001b[1m42s\u001b[0m 500ms/step - accuracy: 0.7162 - loss: 1.0137 - val_accuracy: 0.7833 - val_loss: 1.0207\n",
            "Epoch 74/150\n",
            "\u001b[1m37/38\u001b[0m \u001b[32m━━━━━━━━━━━━━━━━━━━\u001b[0m\u001b[37m━\u001b[0m \u001b[1m0s\u001b[0m 450ms/step - accuracy: 0.7804 - loss: 0.8964\n",
            "Epoch 74: val_accuracy did not improve from 0.78333\n",
            "\u001b[1m38/38\u001b[0m \u001b[32m━━━━━━━━━━━━━━━━━━━━\u001b[0m\u001b[37m\u001b[0m \u001b[1m22s\u001b[0m 478ms/step - accuracy: 0.7791 - loss: 0.8991 - val_accuracy: 0.7375 - val_loss: 1.0922\n",
            "Epoch 75/150\n",
            "\u001b[1m37/38\u001b[0m \u001b[32m━━━━━━━━━━━━━━━━━━━\u001b[0m\u001b[37m━\u001b[0m \u001b[1m0s\u001b[0m 445ms/step - accuracy: 0.7502 - loss: 0.9391\n",
            "Epoch 75: val_accuracy did not improve from 0.78333\n",
            "\u001b[1m38/38\u001b[0m \u001b[32m━━━━━━━━━━━━━━━━━━━━\u001b[0m\u001b[37m\u001b[0m \u001b[1m21s\u001b[0m 487ms/step - accuracy: 0.7502 - loss: 0.9401 - val_accuracy: 0.7667 - val_loss: 1.0146\n",
            "Epoch 76/150\n",
            "\u001b[1m37/38\u001b[0m \u001b[32m━━━━━━━━━━━━━━━━━━━\u001b[0m\u001b[37m━\u001b[0m \u001b[1m0s\u001b[0m 433ms/step - accuracy: 0.8082 - loss: 0.9220\n",
            "Epoch 76: val_accuracy did not improve from 0.78333\n",
            "\u001b[1m38/38\u001b[0m \u001b[32m━━━━━━━━━━━━━━━━━━━━\u001b[0m\u001b[37m\u001b[0m \u001b[1m21s\u001b[0m 463ms/step - accuracy: 0.8068 - loss: 0.9234 - val_accuracy: 0.7708 - val_loss: 1.0058\n",
            "Epoch 77/150\n",
            "\u001b[1m38/38\u001b[0m \u001b[32m━━━━━━━━━━━━━━━━━━━━\u001b[0m\u001b[37m\u001b[0m \u001b[1m0s\u001b[0m 444ms/step - accuracy: 0.7556 - loss: 0.9759\n",
            "Epoch 77: val_accuracy did not improve from 0.78333\n",
            "\u001b[1m38/38\u001b[0m \u001b[32m━━━━━━━━━━━━━━━━━━━━\u001b[0m\u001b[37m\u001b[0m \u001b[1m22s\u001b[0m 490ms/step - accuracy: 0.7556 - loss: 0.9752 - val_accuracy: 0.7167 - val_loss: 1.0942\n",
            "Epoch 78/150\n",
            "\u001b[1m37/38\u001b[0m \u001b[32m━━━━━━━━━━━━━━━━━━━\u001b[0m\u001b[37m━\u001b[0m \u001b[1m0s\u001b[0m 425ms/step - accuracy: 0.7578 - loss: 0.9504\n",
            "Epoch 78: val_accuracy did not improve from 0.78333\n",
            "\u001b[1m38/38\u001b[0m \u001b[32m━━━━━━━━━━━━━━━━━━━━\u001b[0m\u001b[37m\u001b[0m \u001b[1m20s\u001b[0m 455ms/step - accuracy: 0.7580 - loss: 0.9502 - val_accuracy: 0.7750 - val_loss: 1.0128\n",
            "Epoch 79/150\n",
            "\u001b[1m38/38\u001b[0m \u001b[32m━━━━━━━━━━━━━━━━━━━━\u001b[0m\u001b[37m\u001b[0m \u001b[1m0s\u001b[0m 431ms/step - accuracy: 0.7898 - loss: 0.9013\n",
            "Epoch 79: val_accuracy did not improve from 0.78333\n",
            "\u001b[1m38/38\u001b[0m \u001b[32m━━━━━━━━━━━━━━━━━━━━\u001b[0m\u001b[37m\u001b[0m \u001b[1m22s\u001b[0m 471ms/step - accuracy: 0.7893 - loss: 0.9025 - val_accuracy: 0.7292 - val_loss: 1.0297\n",
            "Epoch 80/150\n",
            "\u001b[1m37/38\u001b[0m \u001b[32m━━━━━━━━━━━━━━━━━━━\u001b[0m\u001b[37m━\u001b[0m \u001b[1m0s\u001b[0m 430ms/step - accuracy: 0.7847 - loss: 0.9450\n",
            "Epoch 80: val_accuracy did not improve from 0.78333\n",
            "\u001b[1m38/38\u001b[0m \u001b[32m━━━━━━━━━━━━━━━━━━━━\u001b[0m\u001b[37m\u001b[0m \u001b[1m21s\u001b[0m 460ms/step - accuracy: 0.7842 - loss: 0.9445 - val_accuracy: 0.7708 - val_loss: 0.9753\n",
            "Epoch 81/150\n",
            "\u001b[1m37/38\u001b[0m \u001b[32m━━━━━━━━━━━━━━━━━━━\u001b[0m\u001b[37m━\u001b[0m \u001b[1m0s\u001b[0m 430ms/step - accuracy: 0.7741 - loss: 0.9474\n",
            "Epoch 81: val_accuracy did not improve from 0.78333\n",
            "\u001b[1m38/38\u001b[0m \u001b[32m━━━━━━━━━━━━━━━━━━━━\u001b[0m\u001b[37m\u001b[0m \u001b[1m22s\u001b[0m 460ms/step - accuracy: 0.7737 - loss: 0.9478 - val_accuracy: 0.7500 - val_loss: 1.0067\n",
            "Epoch 82/150\n",
            "\u001b[1m37/38\u001b[0m \u001b[32m━━━━━━━━━━━━━━━━━━━\u001b[0m\u001b[37m━\u001b[0m \u001b[1m0s\u001b[0m 431ms/step - accuracy: 0.7844 - loss: 0.8977\n",
            "Epoch 82: val_accuracy did not improve from 0.78333\n",
            "\u001b[1m38/38\u001b[0m \u001b[32m━━━━━━━━━━━━━━━━━━━━\u001b[0m\u001b[37m\u001b[0m \u001b[1m41s\u001b[0m 461ms/step - accuracy: 0.7837 - loss: 0.8987 - val_accuracy: 0.7708 - val_loss: 0.9768\n",
            "Epoch 83/150\n",
            "\u001b[1m37/38\u001b[0m \u001b[32m━━━━━━━━━━━━━━━━━━━\u001b[0m\u001b[37m━\u001b[0m \u001b[1m0s\u001b[0m 443ms/step - accuracy: 0.7943 - loss: 0.8882\n",
            "Epoch 83: val_accuracy improved from 0.78333 to 0.80417, saving model to /content/drive/MyDrive/model1_same_checkpoint.weights.h5\n",
            "\u001b[1m38/38\u001b[0m \u001b[32m━━━━━━━━━━━━━━━━━━━━\u001b[0m\u001b[37m\u001b[0m \u001b[1m23s\u001b[0m 520ms/step - accuracy: 0.7931 - loss: 0.8895 - val_accuracy: 0.8042 - val_loss: 0.9390\n",
            "Epoch 84/150\n",
            "\u001b[1m37/38\u001b[0m \u001b[32m━━━━━━━━━━━━━━━━━━━\u001b[0m\u001b[37m━\u001b[0m \u001b[1m0s\u001b[0m 446ms/step - accuracy: 0.7705 - loss: 0.9101\n",
            "Epoch 84: val_accuracy did not improve from 0.80417\n",
            "\u001b[1m38/38\u001b[0m \u001b[32m━━━━━━━━━━━━━━━━━━━━\u001b[0m\u001b[37m\u001b[0m \u001b[1m40s\u001b[0m 485ms/step - accuracy: 0.7708 - loss: 0.9105 - val_accuracy: 0.7625 - val_loss: 0.9865\n",
            "Epoch 85/150\n",
            "\u001b[1m37/38\u001b[0m \u001b[32m━━━━━━━━━━━━━━━━━━━\u001b[0m\u001b[37m━\u001b[0m \u001b[1m0s\u001b[0m 447ms/step - accuracy: 0.7915 - loss: 0.8762\n",
            "Epoch 85: val_accuracy did not improve from 0.80417\n",
            "\u001b[1m38/38\u001b[0m \u001b[32m━━━━━━━━━━━━━━━━━━━━\u001b[0m\u001b[37m\u001b[0m \u001b[1m41s\u001b[0m 477ms/step - accuracy: 0.7915 - loss: 0.8765 - val_accuracy: 0.7792 - val_loss: 0.9609\n",
            "Epoch 86/150\n",
            "\u001b[1m37/38\u001b[0m \u001b[32m━━━━━━━━━━━━━━━━━━━\u001b[0m\u001b[37m━\u001b[0m \u001b[1m0s\u001b[0m 430ms/step - accuracy: 0.7856 - loss: 0.8906\n",
            "Epoch 86: val_accuracy did not improve from 0.80417\n",
            "\u001b[1m38/38\u001b[0m \u001b[32m━━━━━━━━━━━━━━━━━━━━\u001b[0m\u001b[37m\u001b[0m \u001b[1m21s\u001b[0m 459ms/step - accuracy: 0.7845 - loss: 0.8914 - val_accuracy: 0.7917 - val_loss: 0.9628\n",
            "Epoch 87/150\n",
            "\u001b[1m37/38\u001b[0m \u001b[32m━━━━━━━━━━━━━━━━━━━\u001b[0m\u001b[37m━\u001b[0m \u001b[1m0s\u001b[0m 425ms/step - accuracy: 0.7868 - loss: 0.8835\n",
            "Epoch 87: val_accuracy did not improve from 0.80417\n",
            "\u001b[1m38/38\u001b[0m \u001b[32m━━━━━━━━━━━━━━━━━━━━\u001b[0m\u001b[37m\u001b[0m \u001b[1m22s\u001b[0m 455ms/step - accuracy: 0.7862 - loss: 0.8845 - val_accuracy: 0.7500 - val_loss: 0.9578\n",
            "Epoch 88/150\n",
            "\u001b[1m37/38\u001b[0m \u001b[32m━━━━━━━━━━━━━━━━━━━\u001b[0m\u001b[37m━\u001b[0m \u001b[1m0s\u001b[0m 432ms/step - accuracy: 0.8029 - loss: 0.8630\n",
            "Epoch 88: val_accuracy did not improve from 0.80417\n",
            "\u001b[1m38/38\u001b[0m \u001b[32m━━━━━━━━━━━━━━━━━━━━\u001b[0m\u001b[37m\u001b[0m \u001b[1m21s\u001b[0m 461ms/step - accuracy: 0.8021 - loss: 0.8648 - val_accuracy: 0.7875 - val_loss: 0.9391\n",
            "Epoch 89/150\n",
            "\u001b[1m37/38\u001b[0m \u001b[32m━━━━━━━━━━━━━━━━━━━\u001b[0m\u001b[37m━\u001b[0m \u001b[1m0s\u001b[0m 429ms/step - accuracy: 0.7727 - loss: 0.9062\n",
            "Epoch 89: val_accuracy did not improve from 0.80417\n",
            "\u001b[1m38/38\u001b[0m \u001b[32m━━━━━━━━━━━━━━━━━━━━\u001b[0m\u001b[37m\u001b[0m \u001b[1m22s\u001b[0m 459ms/step - accuracy: 0.7730 - loss: 0.9058 - val_accuracy: 0.7708 - val_loss: 0.9553\n",
            "Epoch 90/150\n",
            "\u001b[1m37/38\u001b[0m \u001b[32m━━━━━━━━━━━━━━━━━━━\u001b[0m\u001b[37m━\u001b[0m \u001b[1m0s\u001b[0m 432ms/step - accuracy: 0.7966 - loss: 0.8778\n",
            "Epoch 90: val_accuracy did not improve from 0.80417\n",
            "\u001b[1m38/38\u001b[0m \u001b[32m━━━━━━━━━━━━━━━━━━━━\u001b[0m\u001b[37m\u001b[0m \u001b[1m42s\u001b[0m 491ms/step - accuracy: 0.7959 - loss: 0.8783 - val_accuracy: 0.8000 - val_loss: 0.9214\n",
            "Epoch 91/150\n",
            "\u001b[1m37/38\u001b[0m \u001b[32m━━━━━━━━━━━━━━━━━━━\u001b[0m\u001b[37m━\u001b[0m \u001b[1m0s\u001b[0m 452ms/step - accuracy: 0.8048 - loss: 0.8372\n",
            "Epoch 91: val_accuracy did not improve from 0.80417\n",
            "\u001b[1m38/38\u001b[0m \u001b[32m━━━━━━━━━━━━━━━━━━━━\u001b[0m\u001b[37m\u001b[0m \u001b[1m22s\u001b[0m 492ms/step - accuracy: 0.8043 - loss: 0.8386 - val_accuracy: 0.8000 - val_loss: 0.9046\n",
            "Epoch 92/150\n",
            "\u001b[1m37/38\u001b[0m \u001b[32m━━━━━━━━━━━━━━━━━━━\u001b[0m\u001b[37m━\u001b[0m \u001b[1m0s\u001b[0m 429ms/step - accuracy: 0.8064 - loss: 0.8847\n",
            "Epoch 92: val_accuracy did not improve from 0.80417\n",
            "\u001b[1m38/38\u001b[0m \u001b[32m━━━━━━━━━━━━━━━━━━━━\u001b[0m\u001b[37m\u001b[0m \u001b[1m21s\u001b[0m 457ms/step - accuracy: 0.8064 - loss: 0.8845 - val_accuracy: 0.7583 - val_loss: 0.9574\n",
            "Epoch 93/150\n",
            "\u001b[1m37/38\u001b[0m \u001b[32m━━━━━━━━━━━━━━━━━━━\u001b[0m\u001b[37m━\u001b[0m \u001b[1m0s\u001b[0m 430ms/step - accuracy: 0.8107 - loss: 0.8445\n",
            "Epoch 93: val_accuracy did not improve from 0.80417\n",
            "\u001b[1m38/38\u001b[0m \u001b[32m━━━━━━━━━━━━━━━━━━━━\u001b[0m\u001b[37m\u001b[0m \u001b[1m41s\u001b[0m 463ms/step - accuracy: 0.8103 - loss: 0.8456 - val_accuracy: 0.7625 - val_loss: 0.9513\n",
            "Epoch 94/150\n",
            "\u001b[1m38/38\u001b[0m \u001b[32m━━━━━━━━━━━━━━━━━━━━\u001b[0m\u001b[37m\u001b[0m \u001b[1m0s\u001b[0m 432ms/step - accuracy: 0.8063 - loss: 0.8712\n",
            "Epoch 94: val_accuracy did not improve from 0.80417\n",
            "\u001b[1m38/38\u001b[0m \u001b[32m━━━━━━━━━━━━━━━━━━━━\u001b[0m\u001b[37m\u001b[0m \u001b[1m41s\u001b[0m 483ms/step - accuracy: 0.8061 - loss: 0.8712 - val_accuracy: 0.7833 - val_loss: 0.9009\n",
            "Epoch 95/150\n",
            "\u001b[1m37/38\u001b[0m \u001b[32m━━━━━━━━━━━━━━━━━━━\u001b[0m\u001b[37m━\u001b[0m \u001b[1m0s\u001b[0m 425ms/step - accuracy: 0.7868 - loss: 0.8543\n",
            "Epoch 95: val_accuracy did not improve from 0.80417\n",
            "\u001b[1m38/38\u001b[0m \u001b[32m━━━━━━━━━━━━━━━━━━━━\u001b[0m\u001b[37m\u001b[0m \u001b[1m21s\u001b[0m 455ms/step - accuracy: 0.7878 - loss: 0.8535 - val_accuracy: 0.7833 - val_loss: 0.8766\n",
            "Epoch 96/150\n",
            "\u001b[1m37/38\u001b[0m \u001b[32m━━━━━━━━━━━━━━━━━━━\u001b[0m\u001b[37m━\u001b[0m \u001b[1m0s\u001b[0m 435ms/step - accuracy: 0.7901 - loss: 0.8534\n",
            "Epoch 96: val_accuracy did not improve from 0.80417\n",
            "\u001b[1m38/38\u001b[0m \u001b[32m━━━━━━━━━━━━━━━━━━━━\u001b[0m\u001b[37m\u001b[0m \u001b[1m41s\u001b[0m 465ms/step - accuracy: 0.7906 - loss: 0.8527 - val_accuracy: 0.7750 - val_loss: 0.8947\n",
            "Epoch 97/150\n",
            "\u001b[1m37/38\u001b[0m \u001b[32m━━━━━━━━━━━━━━━━━━━\u001b[0m\u001b[37m━\u001b[0m \u001b[1m0s\u001b[0m 432ms/step - accuracy: 0.8224 - loss: 0.7743\n",
            "Epoch 97: val_accuracy did not improve from 0.80417\n",
            "\u001b[1m38/38\u001b[0m \u001b[32m━━━━━━━━━━━━━━━━━━━━\u001b[0m\u001b[37m\u001b[0m \u001b[1m22s\u001b[0m 461ms/step - accuracy: 0.8218 - loss: 0.7770 - val_accuracy: 0.7792 - val_loss: 0.9352\n",
            "Epoch 98/150\n",
            "\u001b[1m37/38\u001b[0m \u001b[32m━━━━━━━━━━━━━━━━━━━\u001b[0m\u001b[37m━\u001b[0m \u001b[1m0s\u001b[0m 434ms/step - accuracy: 0.8129 - loss: 0.8297\n",
            "Epoch 98: val_accuracy improved from 0.80417 to 0.80833, saving model to /content/drive/MyDrive/model1_same_checkpoint.weights.h5\n",
            "\u001b[1m38/38\u001b[0m \u001b[32m━━━━━━━━━━━━━━━━━━━━\u001b[0m\u001b[37m\u001b[0m \u001b[1m42s\u001b[0m 491ms/step - accuracy: 0.8126 - loss: 0.8303 - val_accuracy: 0.8083 - val_loss: 0.8719\n",
            "Epoch 99/150\n",
            "\u001b[1m38/38\u001b[0m \u001b[32m━━━━━━━━━━━━━━━━━━━━\u001b[0m\u001b[37m\u001b[0m \u001b[1m0s\u001b[0m 432ms/step - accuracy: 0.7924 - loss: 0.8373\n",
            "Epoch 99: val_accuracy did not improve from 0.80833\n",
            "\u001b[1m38/38\u001b[0m \u001b[32m━━━━━━━━━━━━━━━━━━━━\u001b[0m\u001b[37m\u001b[0m \u001b[1m23s\u001b[0m 501ms/step - accuracy: 0.7924 - loss: 0.8377 - val_accuracy: 0.8083 - val_loss: 0.8732\n",
            "Epoch 100/150\n",
            "\u001b[1m37/38\u001b[0m \u001b[32m━━━━━━━━━━━━━━━━━━━\u001b[0m\u001b[37m━\u001b[0m \u001b[1m0s\u001b[0m 429ms/step - accuracy: 0.8045 - loss: 0.8534\n",
            "Epoch 100: val_accuracy did not improve from 0.80833\n",
            "\u001b[1m38/38\u001b[0m \u001b[32m━━━━━━━━━━━━━━━━━━━━\u001b[0m\u001b[37m\u001b[0m \u001b[1m21s\u001b[0m 457ms/step - accuracy: 0.8043 - loss: 0.8523 - val_accuracy: 0.8042 - val_loss: 0.8620\n",
            "Epoch 101/150\n",
            "\u001b[1m37/38\u001b[0m \u001b[32m━━━━━━━━━━━━━━━━━━━\u001b[0m\u001b[37m━\u001b[0m \u001b[1m0s\u001b[0m 431ms/step - accuracy: 0.8065 - loss: 0.8445\n",
            "Epoch 101: val_accuracy did not improve from 0.80833\n",
            "\u001b[1m38/38\u001b[0m \u001b[32m━━━━━━━━━━━━━━━━━━━━\u001b[0m\u001b[37m\u001b[0m \u001b[1m41s\u001b[0m 461ms/step - accuracy: 0.8066 - loss: 0.8441 - val_accuracy: 0.7833 - val_loss: 0.8963\n",
            "Epoch 102/150\n",
            "\u001b[1m37/38\u001b[0m \u001b[32m━━━━━━━━━━━━━━━━━━━\u001b[0m\u001b[37m━\u001b[0m \u001b[1m0s\u001b[0m 437ms/step - accuracy: 0.7840 - loss: 0.8252\n",
            "Epoch 102: val_accuracy improved from 0.80833 to 0.83333, saving model to /content/drive/MyDrive/model1_same_checkpoint.weights.h5\n",
            "\u001b[1m38/38\u001b[0m \u001b[32m━━━━━━━━━━━━━━━━━━━━\u001b[0m\u001b[37m\u001b[0m \u001b[1m44s\u001b[0m 532ms/step - accuracy: 0.7848 - loss: 0.8250 - val_accuracy: 0.8333 - val_loss: 0.8203\n",
            "Epoch 103/150\n",
            "\u001b[1m37/38\u001b[0m \u001b[32m━━━━━━━━━━━━━━━━━━━\u001b[0m\u001b[37m━\u001b[0m \u001b[1m0s\u001b[0m 434ms/step - accuracy: 0.8201 - loss: 0.7797\n",
            "Epoch 103: val_accuracy did not improve from 0.83333\n",
            "\u001b[1m38/38\u001b[0m \u001b[32m━━━━━━━━━━━━━━━━━━━━\u001b[0m\u001b[37m\u001b[0m \u001b[1m21s\u001b[0m 463ms/step - accuracy: 0.8198 - loss: 0.7812 - val_accuracy: 0.8083 - val_loss: 0.8444\n",
            "Epoch 104/150\n",
            "\u001b[1m37/38\u001b[0m \u001b[32m━━━━━━━━━━━━━━━━━━━\u001b[0m\u001b[37m━\u001b[0m \u001b[1m0s\u001b[0m 426ms/step - accuracy: 0.8338 - loss: 0.7914\n",
            "Epoch 104: val_accuracy did not improve from 0.83333\n",
            "\u001b[1m38/38\u001b[0m \u001b[32m━━━━━━━━━━━━━━━━━━━━\u001b[0m\u001b[37m\u001b[0m \u001b[1m41s\u001b[0m 464ms/step - accuracy: 0.8334 - loss: 0.7927 - val_accuracy: 0.8042 - val_loss: 0.8703\n",
            "Epoch 105/150\n",
            "\u001b[1m37/38\u001b[0m \u001b[32m━━━━━━━━━━━━━━━━━━━\u001b[0m\u001b[37m━\u001b[0m \u001b[1m0s\u001b[0m 430ms/step - accuracy: 0.7981 - loss: 0.8274\n",
            "Epoch 105: val_accuracy did not improve from 0.83333\n",
            "\u001b[1m38/38\u001b[0m \u001b[32m━━━━━━━━━━━━━━━━━━━━\u001b[0m\u001b[37m\u001b[0m \u001b[1m21s\u001b[0m 458ms/step - accuracy: 0.7974 - loss: 0.8281 - val_accuracy: 0.7958 - val_loss: 0.8822\n",
            "Epoch 106/150\n",
            "\u001b[1m37/38\u001b[0m \u001b[32m━━━━━━━━━━━━━━━━━━━\u001b[0m\u001b[37m━\u001b[0m \u001b[1m0s\u001b[0m 436ms/step - accuracy: 0.8222 - loss: 0.7735\n",
            "Epoch 106: val_accuracy did not improve from 0.83333\n",
            "\u001b[1m38/38\u001b[0m \u001b[32m━━━━━━━━━━━━━━━━━━━━\u001b[0m\u001b[37m\u001b[0m \u001b[1m40s\u001b[0m 466ms/step - accuracy: 0.8224 - loss: 0.7740 - val_accuracy: 0.8167 - val_loss: 0.7908\n",
            "Epoch 107/150\n",
            "\u001b[1m37/38\u001b[0m \u001b[32m━━━━━━━━━━━━━━━━━━━\u001b[0m\u001b[37m━\u001b[0m \u001b[1m0s\u001b[0m 431ms/step - accuracy: 0.8016 - loss: 0.8039\n",
            "Epoch 107: val_accuracy did not improve from 0.83333\n",
            "\u001b[1m38/38\u001b[0m \u001b[32m━━━━━━━━━━━━━━━━━━━━\u001b[0m\u001b[37m\u001b[0m \u001b[1m41s\u001b[0m 459ms/step - accuracy: 0.8020 - loss: 0.8045 - val_accuracy: 0.7958 - val_loss: 0.8409\n",
            "Epoch 108/150\n",
            "\u001b[1m37/38\u001b[0m \u001b[32m━━━━━━━━━━━━━━━━━━━\u001b[0m\u001b[37m━\u001b[0m \u001b[1m0s\u001b[0m 433ms/step - accuracy: 0.8236 - loss: 0.7815\n",
            "Epoch 108: val_accuracy did not improve from 0.83333\n",
            "\u001b[1m38/38\u001b[0m \u001b[32m━━━━━━━━━━━━━━━━━━━━\u001b[0m\u001b[37m\u001b[0m \u001b[1m22s\u001b[0m 462ms/step - accuracy: 0.8234 - loss: 0.7819 - val_accuracy: 0.8083 - val_loss: 0.8391\n",
            "Epoch 109/150\n",
            "\u001b[1m37/38\u001b[0m \u001b[32m━━━━━━━━━━━━━━━━━━━\u001b[0m\u001b[37m━\u001b[0m \u001b[1m0s\u001b[0m 425ms/step - accuracy: 0.8107 - loss: 0.8061\n",
            "Epoch 109: val_accuracy improved from 0.83333 to 0.84167, saving model to /content/drive/MyDrive/model1_same_checkpoint.weights.h5\n",
            "\u001b[1m38/38\u001b[0m \u001b[32m━━━━━━━━━━━━━━━━━━━━\u001b[0m\u001b[37m\u001b[0m \u001b[1m42s\u001b[0m 484ms/step - accuracy: 0.8106 - loss: 0.8062 - val_accuracy: 0.8417 - val_loss: 0.7858\n",
            "Epoch 110/150\n",
            "\u001b[1m38/38\u001b[0m \u001b[32m━━━━━━━━━━━━━━━━━━━━\u001b[0m\u001b[37m\u001b[0m \u001b[1m0s\u001b[0m 441ms/step - accuracy: 0.8187 - loss: 0.7947\n",
            "Epoch 110: val_accuracy did not improve from 0.84167\n",
            "\u001b[1m38/38\u001b[0m \u001b[32m━━━━━━━━━━━━━━━━━━━━\u001b[0m\u001b[37m\u001b[0m \u001b[1m22s\u001b[0m 493ms/step - accuracy: 0.8189 - loss: 0.7946 - val_accuracy: 0.8417 - val_loss: 0.7756\n",
            "Epoch 111/150\n",
            "\u001b[1m37/38\u001b[0m \u001b[32m━━━━━━━━━━━━━━━━━━━\u001b[0m\u001b[37m━\u001b[0m \u001b[1m0s\u001b[0m 429ms/step - accuracy: 0.8352 - loss: 0.7628\n",
            "Epoch 111: val_accuracy improved from 0.84167 to 0.85000, saving model to /content/drive/MyDrive/model1_same_checkpoint.weights.h5\n",
            "\u001b[1m38/38\u001b[0m \u001b[32m━━━━━━━━━━━━━━━━━━━━\u001b[0m\u001b[37m\u001b[0m \u001b[1m22s\u001b[0m 496ms/step - accuracy: 0.8351 - loss: 0.7635 - val_accuracy: 0.8500 - val_loss: 0.7610\n",
            "Epoch 112/150\n",
            "\u001b[1m37/38\u001b[0m \u001b[32m━━━━━━━━━━━━━━━━━━━\u001b[0m\u001b[37m━\u001b[0m \u001b[1m0s\u001b[0m 452ms/step - accuracy: 0.8353 - loss: 0.7670\n",
            "Epoch 112: val_accuracy did not improve from 0.85000\n",
            "\u001b[1m38/38\u001b[0m \u001b[32m━━━━━━━━━━━━━━━━━━━━\u001b[0m\u001b[37m\u001b[0m \u001b[1m22s\u001b[0m 479ms/step - accuracy: 0.8355 - loss: 0.7667 - val_accuracy: 0.8333 - val_loss: 0.7910\n",
            "Epoch 113/150\n",
            "\u001b[1m37/38\u001b[0m \u001b[32m━━━━━━━━━━━━━━━━━━━\u001b[0m\u001b[37m━\u001b[0m \u001b[1m0s\u001b[0m 428ms/step - accuracy: 0.8130 - loss: 0.7855\n",
            "Epoch 113: val_accuracy improved from 0.85000 to 0.87083, saving model to /content/drive/MyDrive/model1_same_checkpoint.weights.h5\n",
            "\u001b[1m38/38\u001b[0m \u001b[32m━━━━━━━━━━━━━━━━━━━━\u001b[0m\u001b[37m\u001b[0m \u001b[1m42s\u001b[0m 489ms/step - accuracy: 0.8135 - loss: 0.7857 - val_accuracy: 0.8708 - val_loss: 0.7652\n",
            "Epoch 114/150\n",
            "\u001b[1m37/38\u001b[0m \u001b[32m━━━━━━━━━━━━━━━━━━━\u001b[0m\u001b[37m━\u001b[0m \u001b[1m0s\u001b[0m 428ms/step - accuracy: 0.8594 - loss: 0.7319\n",
            "Epoch 114: val_accuracy improved from 0.87083 to 0.88333, saving model to /content/drive/MyDrive/model1_same_checkpoint.weights.h5\n",
            "\u001b[1m38/38\u001b[0m \u001b[32m━━━━━━━━━━━━━━━━━━━━\u001b[0m\u001b[37m\u001b[0m \u001b[1m41s\u001b[0m 486ms/step - accuracy: 0.8583 - loss: 0.7333 - val_accuracy: 0.8833 - val_loss: 0.7296\n",
            "Epoch 115/150\n",
            "\u001b[1m37/38\u001b[0m \u001b[32m━━━━━━━━━━━━━━━━━━━\u001b[0m\u001b[37m━\u001b[0m \u001b[1m0s\u001b[0m 447ms/step - accuracy: 0.8280 - loss: 0.7809\n",
            "Epoch 115: val_accuracy did not improve from 0.88333\n",
            "\u001b[1m38/38\u001b[0m \u001b[32m━━━━━━━━━━━━━━━━━━━━\u001b[0m\u001b[37m\u001b[0m \u001b[1m22s\u001b[0m 488ms/step - accuracy: 0.8285 - loss: 0.7802 - val_accuracy: 0.8625 - val_loss: 0.7393\n",
            "Epoch 116/150\n",
            "\u001b[1m37/38\u001b[0m \u001b[32m━━━━━━━━━━━━━━━━━━━\u001b[0m\u001b[37m━\u001b[0m \u001b[1m0s\u001b[0m 451ms/step - accuracy: 0.8499 - loss: 0.7745\n",
            "Epoch 116: val_accuracy did not improve from 0.88333\n",
            "\u001b[1m38/38\u001b[0m \u001b[32m━━━━━━━━━━━━━━━━━━━━\u001b[0m\u001b[37m\u001b[0m \u001b[1m41s\u001b[0m 483ms/step - accuracy: 0.8494 - loss: 0.7756 - val_accuracy: 0.8042 - val_loss: 0.8137\n",
            "Epoch 117/150\n",
            "\u001b[1m37/38\u001b[0m \u001b[32m━━━━━━━━━━━━━━━━━━━\u001b[0m\u001b[37m━\u001b[0m \u001b[1m0s\u001b[0m 457ms/step - accuracy: 0.8439 - loss: 0.7472\n",
            "Epoch 117: val_accuracy did not improve from 0.88333\n",
            "\u001b[1m38/38\u001b[0m \u001b[32m━━━━━━━━━━━━━━━━━━━━\u001b[0m\u001b[37m\u001b[0m \u001b[1m41s\u001b[0m 485ms/step - accuracy: 0.8430 - loss: 0.7486 - val_accuracy: 0.8583 - val_loss: 0.7481\n",
            "Epoch 118/150\n",
            "\u001b[1m37/38\u001b[0m \u001b[32m━━━━━━━━━━━━━━━━━━━\u001b[0m\u001b[37m━\u001b[0m \u001b[1m0s\u001b[0m 426ms/step - accuracy: 0.8608 - loss: 0.7312\n",
            "Epoch 118: val_accuracy did not improve from 0.88333\n",
            "\u001b[1m38/38\u001b[0m \u001b[32m━━━━━━━━━━━━━━━━━━━━\u001b[0m\u001b[37m\u001b[0m \u001b[1m42s\u001b[0m 485ms/step - accuracy: 0.8603 - loss: 0.7320 - val_accuracy: 0.8208 - val_loss: 0.7981\n",
            "Epoch 119/150\n",
            "\u001b[1m37/38\u001b[0m \u001b[32m━━━━━━━━━━━━━━━━━━━\u001b[0m\u001b[37m━\u001b[0m \u001b[1m0s\u001b[0m 427ms/step - accuracy: 0.8382 - loss: 0.7449\n",
            "Epoch 119: val_accuracy did not improve from 0.88333\n",
            "\u001b[1m38/38\u001b[0m \u001b[32m━━━━━━━━━━━━━━━━━━━━\u001b[0m\u001b[37m\u001b[0m \u001b[1m22s\u001b[0m 486ms/step - accuracy: 0.8379 - loss: 0.7457 - val_accuracy: 0.8708 - val_loss: 0.7333\n",
            "Epoch 120/150\n",
            "\u001b[1m38/38\u001b[0m \u001b[32m━━━━━━━━━━━━━━━━━━━━\u001b[0m\u001b[37m\u001b[0m \u001b[1m0s\u001b[0m 433ms/step - accuracy: 0.8595 - loss: 0.6934\n",
            "Epoch 120: val_accuracy did not improve from 0.88333\n",
            "\u001b[1m38/38\u001b[0m \u001b[32m━━━━━━━━━━━━━━━━━━━━\u001b[0m\u001b[37m\u001b[0m \u001b[1m41s\u001b[0m 484ms/step - accuracy: 0.8589 - loss: 0.6944 - val_accuracy: 0.8500 - val_loss: 0.7380\n",
            "Epoch 121/150\n",
            "\u001b[1m38/38\u001b[0m \u001b[32m━━━━━━━━━━━━━━━━━━━━\u001b[0m\u001b[37m\u001b[0m \u001b[1m0s\u001b[0m 432ms/step - accuracy: 0.8369 - loss: 0.7488\n",
            "Epoch 121: val_accuracy did not improve from 0.88333\n",
            "\u001b[1m38/38\u001b[0m \u001b[32m━━━━━━━━━━━━━━━━━━━━\u001b[0m\u001b[37m\u001b[0m \u001b[1m21s\u001b[0m 473ms/step - accuracy: 0.8371 - loss: 0.7486 - val_accuracy: 0.8833 - val_loss: 0.7105\n",
            "Epoch 122/150\n",
            "\u001b[1m37/38\u001b[0m \u001b[32m━━━━━━━━━━━━━━━━━━━\u001b[0m\u001b[37m━\u001b[0m \u001b[1m0s\u001b[0m 447ms/step - accuracy: 0.8388 - loss: 0.7280\n",
            "Epoch 122: val_accuracy did not improve from 0.88333\n",
            "\u001b[1m38/38\u001b[0m \u001b[32m━━━━━━━━━━━━━━━━━━━━\u001b[0m\u001b[37m\u001b[0m \u001b[1m22s\u001b[0m 480ms/step - accuracy: 0.8387 - loss: 0.7288 - val_accuracy: 0.8500 - val_loss: 0.7605\n",
            "Epoch 123/150\n",
            "\u001b[1m37/38\u001b[0m \u001b[32m━━━━━━━━━━━━━━━━━━━\u001b[0m\u001b[37m━\u001b[0m \u001b[1m0s\u001b[0m 438ms/step - accuracy: 0.8555 - loss: 0.7152\n",
            "Epoch 123: val_accuracy did not improve from 0.88333\n",
            "\u001b[1m38/38\u001b[0m \u001b[32m━━━━━━━━━━━━━━━━━━━━\u001b[0m\u001b[37m\u001b[0m \u001b[1m21s\u001b[0m 468ms/step - accuracy: 0.8551 - loss: 0.7157 - val_accuracy: 0.8292 - val_loss: 0.7472\n",
            "Epoch 124/150\n",
            "\u001b[1m37/38\u001b[0m \u001b[32m━━━━━━━━━━━━━━━━━━━\u001b[0m\u001b[37m━\u001b[0m \u001b[1m0s\u001b[0m 448ms/step - accuracy: 0.8510 - loss: 0.7227\n",
            "Epoch 124: val_accuracy did not improve from 0.88333\n",
            "\u001b[1m38/38\u001b[0m \u001b[32m━━━━━━━━━━━━━━━━━━━━\u001b[0m\u001b[37m\u001b[0m \u001b[1m22s\u001b[0m 476ms/step - accuracy: 0.8511 - loss: 0.7226 - val_accuracy: 0.8542 - val_loss: 0.7445\n",
            "Epoch 125/150\n",
            "\u001b[1m37/38\u001b[0m \u001b[32m━━━━━━━━━━━━━━━━━━━\u001b[0m\u001b[37m━\u001b[0m \u001b[1m0s\u001b[0m 443ms/step - accuracy: 0.8732 - loss: 0.6939\n",
            "Epoch 125: val_accuracy improved from 0.88333 to 0.88750, saving model to /content/drive/MyDrive/model1_same_checkpoint.weights.h5\n",
            "\u001b[1m38/38\u001b[0m \u001b[32m━━━━━━━━━━━━━━━━━━━━\u001b[0m\u001b[37m\u001b[0m \u001b[1m42s\u001b[0m 504ms/step - accuracy: 0.8727 - loss: 0.6946 - val_accuracy: 0.8875 - val_loss: 0.6956\n",
            "Epoch 126/150\n",
            "\u001b[1m37/38\u001b[0m \u001b[32m━━━━━━━━━━━━━━━━━━━\u001b[0m\u001b[37m━\u001b[0m \u001b[1m0s\u001b[0m 434ms/step - accuracy: 0.8379 - loss: 0.7239\n",
            "Epoch 126: val_accuracy did not improve from 0.88750\n",
            "\u001b[1m38/38\u001b[0m \u001b[32m━━━━━━━━━━━━━━━━━━━━\u001b[0m\u001b[37m\u001b[0m \u001b[1m40s\u001b[0m 463ms/step - accuracy: 0.8383 - loss: 0.7240 - val_accuracy: 0.8542 - val_loss: 0.7408\n",
            "Epoch 127/150\n",
            "\u001b[1m37/38\u001b[0m \u001b[32m━━━━━━━━━━━━━━━━━━━\u001b[0m\u001b[37m━\u001b[0m \u001b[1m0s\u001b[0m 431ms/step - accuracy: 0.8483 - loss: 0.7207\n",
            "Epoch 127: val_accuracy did not improve from 0.88750\n",
            "\u001b[1m38/38\u001b[0m \u001b[32m━━━━━━━━━━━━━━━━━━━━\u001b[0m\u001b[37m\u001b[0m \u001b[1m40s\u001b[0m 461ms/step - accuracy: 0.8475 - loss: 0.7222 - val_accuracy: 0.8458 - val_loss: 0.7675\n",
            "Epoch 128/150\n",
            "\u001b[1m37/38\u001b[0m \u001b[32m━━━━━━━━━━━━━━━━━━━\u001b[0m\u001b[37m━\u001b[0m \u001b[1m0s\u001b[0m 430ms/step - accuracy: 0.8608 - loss: 0.6879\n",
            "Epoch 128: val_accuracy improved from 0.88750 to 0.89583, saving model to /content/drive/MyDrive/model1_same_checkpoint.weights.h5\n",
            "\u001b[1m38/38\u001b[0m \u001b[32m━━━━━━━━━━━━━━━━━━━━\u001b[0m\u001b[37m\u001b[0m \u001b[1m23s\u001b[0m 520ms/step - accuracy: 0.8603 - loss: 0.6883 - val_accuracy: 0.8958 - val_loss: 0.6873\n",
            "Epoch 129/150\n",
            "\u001b[1m37/38\u001b[0m \u001b[32m━━━━━━━━━━━━━━━━━━━\u001b[0m\u001b[37m━\u001b[0m \u001b[1m0s\u001b[0m 446ms/step - accuracy: 0.8538 - loss: 0.6927\n",
            "Epoch 129: val_accuracy did not improve from 0.89583\n",
            "\u001b[1m38/38\u001b[0m \u001b[32m━━━━━━━━━━━━━━━━━━━━\u001b[0m\u001b[37m\u001b[0m \u001b[1m21s\u001b[0m 476ms/step - accuracy: 0.8535 - loss: 0.6939 - val_accuracy: 0.8750 - val_loss: 0.6867\n",
            "Epoch 130/150\n",
            "\u001b[1m37/38\u001b[0m \u001b[32m━━━━━━━━━━━━━━━━━━━\u001b[0m\u001b[37m━\u001b[0m \u001b[1m0s\u001b[0m 441ms/step - accuracy: 0.8396 - loss: 0.7366\n",
            "Epoch 130: val_accuracy did not improve from 0.89583\n",
            "\u001b[1m38/38\u001b[0m \u001b[32m━━━━━━━━━━━━━━━━━━━━\u001b[0m\u001b[37m\u001b[0m \u001b[1m22s\u001b[0m 470ms/step - accuracy: 0.8400 - loss: 0.7353 - val_accuracy: 0.8500 - val_loss: 0.7067\n",
            "Epoch 131/150\n",
            "\u001b[1m37/38\u001b[0m \u001b[32m━━━━━━━━━━━━━━━━━━━\u001b[0m\u001b[37m━\u001b[0m \u001b[1m0s\u001b[0m 435ms/step - accuracy: 0.8679 - loss: 0.7209\n",
            "Epoch 131: val_accuracy did not improve from 0.89583\n",
            "\u001b[1m38/38\u001b[0m \u001b[32m━━━━━━━━━━━━━━━━━━━━\u001b[0m\u001b[37m\u001b[0m \u001b[1m22s\u001b[0m 493ms/step - accuracy: 0.8676 - loss: 0.7201 - val_accuracy: 0.8917 - val_loss: 0.6574\n",
            "Epoch 132/150\n",
            "\u001b[1m37/38\u001b[0m \u001b[32m━━━━━━━━━━━━━━━━━━━\u001b[0m\u001b[37m━\u001b[0m \u001b[1m0s\u001b[0m 426ms/step - accuracy: 0.8626 - loss: 0.6894\n",
            "Epoch 132: val_accuracy did not improve from 0.89583\n",
            "\u001b[1m38/38\u001b[0m \u001b[32m━━━━━━━━━━━━━━━━━━━━\u001b[0m\u001b[37m\u001b[0m \u001b[1m22s\u001b[0m 455ms/step - accuracy: 0.8624 - loss: 0.6900 - val_accuracy: 0.8750 - val_loss: 0.6835\n",
            "Epoch 133/150\n",
            "\u001b[1m37/38\u001b[0m \u001b[32m━━━━━━━━━━━━━━━━━━━\u001b[0m\u001b[37m━\u001b[0m \u001b[1m0s\u001b[0m 429ms/step - accuracy: 0.8585 - loss: 0.7042\n",
            "Epoch 133: val_accuracy improved from 0.89583 to 0.91250, saving model to /content/drive/MyDrive/model1_same_checkpoint.weights.h5\n",
            "\u001b[1m38/38\u001b[0m \u001b[32m━━━━━━━━━━━━━━━━━━━━\u001b[0m\u001b[37m\u001b[0m \u001b[1m22s\u001b[0m 504ms/step - accuracy: 0.8584 - loss: 0.7036 - val_accuracy: 0.9125 - val_loss: 0.6586\n",
            "Epoch 134/150\n",
            "\u001b[1m37/38\u001b[0m \u001b[32m━━━━━━━━━━━━━━━━━━━\u001b[0m\u001b[37m━\u001b[0m \u001b[1m0s\u001b[0m 441ms/step - accuracy: 0.8699 - loss: 0.6692\n",
            "Epoch 134: val_accuracy did not improve from 0.91250\n",
            "\u001b[1m38/38\u001b[0m \u001b[32m━━━━━━━━━━━━━━━━━━━━\u001b[0m\u001b[37m\u001b[0m \u001b[1m21s\u001b[0m 469ms/step - accuracy: 0.8700 - loss: 0.6696 - val_accuracy: 0.8750 - val_loss: 0.6875\n",
            "Epoch 135/150\n",
            "\u001b[1m37/38\u001b[0m \u001b[32m━━━━━━━━━━━━━━━━━━━\u001b[0m\u001b[37m━\u001b[0m \u001b[1m0s\u001b[0m 448ms/step - accuracy: 0.8576 - loss: 0.6985\n",
            "Epoch 135: val_accuracy did not improve from 0.91250\n",
            "\u001b[1m38/38\u001b[0m \u001b[32m━━━━━━━━━━━━━━━━━━━━\u001b[0m\u001b[37m\u001b[0m \u001b[1m22s\u001b[0m 482ms/step - accuracy: 0.8571 - loss: 0.6990 - val_accuracy: 0.8917 - val_loss: 0.6662\n",
            "Epoch 136/150\n",
            "\u001b[1m37/38\u001b[0m \u001b[32m━━━━━━━━━━━━━━━━━━━\u001b[0m\u001b[37m━\u001b[0m \u001b[1m0s\u001b[0m 447ms/step - accuracy: 0.8600 - loss: 0.7157\n",
            "Epoch 136: val_accuracy did not improve from 0.91250\n",
            "\u001b[1m38/38\u001b[0m \u001b[32m━━━━━━━━━━━━━━━━━━━━\u001b[0m\u001b[37m\u001b[0m \u001b[1m41s\u001b[0m 476ms/step - accuracy: 0.8596 - loss: 0.7157 - val_accuracy: 0.8667 - val_loss: 0.7008\n",
            "Epoch 137/150\n",
            "\u001b[1m37/38\u001b[0m \u001b[32m━━━━━━━━━━━━━━━━━━━\u001b[0m\u001b[37m━\u001b[0m \u001b[1m0s\u001b[0m 436ms/step - accuracy: 0.8575 - loss: 0.7110\n",
            "Epoch 137: val_accuracy did not improve from 0.91250\n",
            "\u001b[1m38/38\u001b[0m \u001b[32m━━━━━━━━━━━━━━━━━━━━\u001b[0m\u001b[37m\u001b[0m \u001b[1m21s\u001b[0m 466ms/step - accuracy: 0.8574 - loss: 0.7113 - val_accuracy: 0.9125 - val_loss: 0.6197\n",
            "Epoch 138/150\n",
            "\u001b[1m37/38\u001b[0m \u001b[32m━━━━━━━━━━━━━━━━━━━\u001b[0m\u001b[37m━\u001b[0m \u001b[1m0s\u001b[0m 439ms/step - accuracy: 0.8703 - loss: 0.6623\n",
            "Epoch 138: val_accuracy did not improve from 0.91250\n",
            "\u001b[1m38/38\u001b[0m \u001b[32m━━━━━━━━━━━━━━━━━━━━\u001b[0m\u001b[37m\u001b[0m \u001b[1m22s\u001b[0m 468ms/step - accuracy: 0.8698 - loss: 0.6636 - val_accuracy: 0.8708 - val_loss: 0.6785\n",
            "Epoch 139/150\n",
            "\u001b[1m37/38\u001b[0m \u001b[32m━━━━━━━━━━━━━━━━━━━\u001b[0m\u001b[37m━\u001b[0m \u001b[1m0s\u001b[0m 426ms/step - accuracy: 0.8660 - loss: 0.6636\n",
            "Epoch 139: val_accuracy improved from 0.91250 to 0.93333, saving model to /content/drive/MyDrive/model1_same_checkpoint.weights.h5\n",
            "\u001b[1m38/38\u001b[0m \u001b[32m━━━━━━━━━━━━━━━━━━━━\u001b[0m\u001b[37m\u001b[0m \u001b[1m22s\u001b[0m 492ms/step - accuracy: 0.8661 - loss: 0.6638 - val_accuracy: 0.9333 - val_loss: 0.6238\n",
            "Epoch 140/150\n",
            "\u001b[1m37/38\u001b[0m \u001b[32m━━━━━━━━━━━━━━━━━━━\u001b[0m\u001b[37m━\u001b[0m \u001b[1m0s\u001b[0m 433ms/step - accuracy: 0.8203 - loss: 0.7411\n",
            "Epoch 140: val_accuracy did not improve from 0.93333\n",
            "\u001b[1m38/38\u001b[0m \u001b[32m━━━━━━━━━━━━━━━━━━━━\u001b[0m\u001b[37m\u001b[0m \u001b[1m41s\u001b[0m 492ms/step - accuracy: 0.8215 - loss: 0.7397 - val_accuracy: 0.8875 - val_loss: 0.6428\n",
            "Epoch 141/150\n",
            "\u001b[1m37/38\u001b[0m \u001b[32m━━━━━━━━━━━━━━━━━━━\u001b[0m\u001b[37m━\u001b[0m \u001b[1m0s\u001b[0m 450ms/step - accuracy: 0.8518 - loss: 0.6851\n",
            "Epoch 141: val_accuracy improved from 0.93333 to 0.95417, saving model to /content/drive/MyDrive/model1_same_checkpoint.weights.h5\n",
            "\u001b[1m38/38\u001b[0m \u001b[32m━━━━━━━━━━━━━━━━━━━━\u001b[0m\u001b[37m\u001b[0m \u001b[1m42s\u001b[0m 519ms/step - accuracy: 0.8521 - loss: 0.6854 - val_accuracy: 0.9542 - val_loss: 0.6124\n",
            "Epoch 142/150\n",
            "\u001b[1m37/38\u001b[0m \u001b[32m━━━━━━━━━━━━━━━━━━━\u001b[0m\u001b[37m━\u001b[0m \u001b[1m0s\u001b[0m 441ms/step - accuracy: 0.8830 - loss: 0.6766\n",
            "Epoch 142: val_accuracy did not improve from 0.95417\n",
            "\u001b[1m38/38\u001b[0m \u001b[32m━━━━━━━━━━━━━━━━━━━━\u001b[0m\u001b[37m\u001b[0m \u001b[1m40s\u001b[0m 470ms/step - accuracy: 0.8827 - loss: 0.6763 - val_accuracy: 0.9375 - val_loss: 0.5944\n",
            "Epoch 143/150\n",
            "\u001b[1m37/38\u001b[0m \u001b[32m━━━━━━━━━━━━━━━━━━━\u001b[0m\u001b[37m━\u001b[0m \u001b[1m0s\u001b[0m 431ms/step - accuracy: 0.8678 - loss: 0.6728\n",
            "Epoch 143: val_accuracy did not improve from 0.95417\n",
            "\u001b[1m38/38\u001b[0m \u001b[32m━━━━━━━━━━━━━━━━━━━━\u001b[0m\u001b[37m\u001b[0m \u001b[1m41s\u001b[0m 462ms/step - accuracy: 0.8677 - loss: 0.6728 - val_accuracy: 0.9250 - val_loss: 0.6075\n",
            "Epoch 144/150\n",
            "\u001b[1m37/38\u001b[0m \u001b[32m━━━━━━━━━━━━━━━━━━━\u001b[0m\u001b[37m━\u001b[0m \u001b[1m0s\u001b[0m 435ms/step - accuracy: 0.8562 - loss: 0.6724\n",
            "Epoch 144: val_accuracy did not improve from 0.95417\n",
            "\u001b[1m38/38\u001b[0m \u001b[32m━━━━━━━━━━━━━━━━━━━━\u001b[0m\u001b[37m\u001b[0m \u001b[1m41s\u001b[0m 464ms/step - accuracy: 0.8572 - loss: 0.6711 - val_accuracy: 0.8708 - val_loss: 0.6525\n",
            "Epoch 145/150\n",
            "\u001b[1m37/38\u001b[0m \u001b[32m━━━━━━━━━━━━━━━━━━━\u001b[0m\u001b[37m━\u001b[0m \u001b[1m0s\u001b[0m 440ms/step - accuracy: 0.8723 - loss: 0.6487\n",
            "Epoch 145: val_accuracy did not improve from 0.95417\n",
            "\u001b[1m38/38\u001b[0m \u001b[32m━━━━━━━━━━━━━━━━━━━━\u001b[0m\u001b[37m\u001b[0m \u001b[1m40s\u001b[0m 471ms/step - accuracy: 0.8724 - loss: 0.6489 - val_accuracy: 0.9042 - val_loss: 0.6176\n",
            "Epoch 146/150\n",
            "\u001b[1m37/38\u001b[0m \u001b[32m━━━━━━━━━━━━━━━━━━━\u001b[0m\u001b[37m━\u001b[0m \u001b[1m0s\u001b[0m 460ms/step - accuracy: 0.8777 - loss: 0.6351\n",
            "Epoch 146: val_accuracy did not improve from 0.95417\n",
            "\u001b[1m38/38\u001b[0m \u001b[32m━━━━━━━━━━━━━━━━━━━━\u001b[0m\u001b[37m\u001b[0m \u001b[1m23s\u001b[0m 518ms/step - accuracy: 0.8776 - loss: 0.6364 - val_accuracy: 0.9417 - val_loss: 0.5687\n",
            "Epoch 147/150\n",
            "\u001b[1m37/38\u001b[0m \u001b[32m━━━━━━━━━━━━━━━━━━━\u001b[0m\u001b[37m━\u001b[0m \u001b[1m0s\u001b[0m 439ms/step - accuracy: 0.8859 - loss: 0.6434\n",
            "Epoch 147: val_accuracy did not improve from 0.95417\n",
            "\u001b[1m38/38\u001b[0m \u001b[32m━━━━━━━━━━━━━━━━━━━━\u001b[0m\u001b[37m\u001b[0m \u001b[1m21s\u001b[0m 471ms/step - accuracy: 0.8855 - loss: 0.6445 - val_accuracy: 0.9000 - val_loss: 0.6432\n",
            "Epoch 148/150\n",
            "\u001b[1m37/38\u001b[0m \u001b[32m━━━━━━━━━━━━━━━━━━━\u001b[0m\u001b[37m━\u001b[0m \u001b[1m0s\u001b[0m 439ms/step - accuracy: 0.8997 - loss: 0.6610\n",
            "Epoch 148: val_accuracy improved from 0.95417 to 0.97083, saving model to /content/drive/MyDrive/model1_same_checkpoint.weights.h5\n",
            "\u001b[1m38/38\u001b[0m \u001b[32m━━━━━━━━━━━━━━━━━━━━\u001b[0m\u001b[37m\u001b[0m \u001b[1m43s\u001b[0m 533ms/step - accuracy: 0.8992 - loss: 0.6605 - val_accuracy: 0.9708 - val_loss: 0.5355\n",
            "Epoch 149/150\n",
            "\u001b[1m37/38\u001b[0m \u001b[32m━━━━━━━━━━━━━━━━━━━\u001b[0m\u001b[37m━\u001b[0m \u001b[1m0s\u001b[0m 448ms/step - accuracy: 0.8525 - loss: 0.6842\n",
            "Epoch 149: val_accuracy did not improve from 0.97083\n",
            "\u001b[1m38/38\u001b[0m \u001b[32m━━━━━━━━━━━━━━━━━━━━\u001b[0m\u001b[37m\u001b[0m \u001b[1m21s\u001b[0m 477ms/step - accuracy: 0.8531 - loss: 0.6832 - val_accuracy: 0.9167 - val_loss: 0.6122\n",
            "Epoch 150/150\n",
            "\u001b[1m37/38\u001b[0m \u001b[32m━━━━━━━━━━━━━━━━━━━\u001b[0m\u001b[37m━\u001b[0m \u001b[1m0s\u001b[0m 466ms/step - accuracy: 0.8850 - loss: 0.6456\n",
            "Epoch 150: val_accuracy did not improve from 0.97083\n",
            "\u001b[1m38/38\u001b[0m \u001b[32m━━━━━━━━━━━━━━━━━━━━\u001b[0m\u001b[37m\u001b[0m \u001b[1m22s\u001b[0m 494ms/step - accuracy: 0.8843 - loss: 0.6462 - val_accuracy: 0.9250 - val_loss: 0.6149\n"
          ]
        }
      ],
      "source": [
        "# Train the model and save the training history\n",
        "training_history = model.fit(\n",
        "\ttrain_dataset,\n",
        "\tepochs=150,\n",
        "\tvalidation_data=valid_dataset,\n",
        "\tcallbacks = [EarlyStoppingCallback(), checkpoint_callback]\n",
        ")"
      ]
    },
    {
      "cell_type": "markdown",
      "source": [
        "##  Evaluating the Model on the Test Dataset"
      ],
      "metadata": {
        "id": "cmjxfhEO-E9p"
      }
    },
    {
      "cell_type": "code",
      "execution_count": null,
      "metadata": {
        "colab": {
          "base_uri": "https://localhost:8080/"
        },
        "id": "87UNIg-eFdKi",
        "outputId": "0d6631dd-99bf-4015-d477-17a9cabfcf9a"
      },
      "outputs": [
        {
          "output_type": "stream",
          "name": "stdout",
          "text": [
            "\u001b[1m2/2\u001b[0m \u001b[32m━━━━━━━━━━━━━━━━━━━━\u001b[0m\u001b[37m\u001b[0m \u001b[1m2s\u001b[0m 1s/step - accuracy: 0.9347 - loss: 0.6229\n",
            "Test accuracy: 0.9333333373069763\n"
          ]
        }
      ],
      "source": [
        "# Evaluate the model\n",
        "test_loss, test_accuracy = model.evaluate(test_dataset)\n",
        "print(f'Test accuracy: {test_accuracy}')"
      ]
    },
    {
      "cell_type": "markdown",
      "source": [
        "# **Visualizing Training and Validation Metrics**"
      ],
      "metadata": {
        "id": "7IMD5Zrm-Rka"
      }
    },
    {
      "cell_type": "code",
      "execution_count": null,
      "metadata": {
        "colab": {
          "base_uri": "https://localhost:8080/",
          "height": 515
        },
        "id": "bhB9AgTjjJRC",
        "outputId": "855d2f51-1993-4840-e59b-6c4e6e516ba8"
      },
      "outputs": [
        {
          "output_type": "display_data",
          "data": {
            "text/plain": [
              "<Figure size 1000x500 with 2 Axes>"
            ],
            "image/png": "[encoded data removed]"
          },
          "metadata": {}
        }
      ],
      "source": [
        "# Get training and validation accuracies\n",
        "acc = training_history.history['accuracy']\n",
        "val_acc = training_history.history['val_accuracy']\n",
        "loss = training_history.history['loss']\n",
        "val_loss = training_history.history['val_loss']\n",
        "\n",
        "# Get number of epochs\n",
        "epochs = range(len(acc))\n",
        "\n",
        "# Define the custom ticks for the X axis (e.g., 0, 10, 20, ..., max epoch)\n",
        "epoch_ticks = range(0, len(acc), 20)  # Adjust 20 to any other interval if needed\n",
        "\n",
        "# Get the min and max values for loss to dynamically adjust the Y-axis range\n",
        "loss_min = min(min(loss), min(val_loss))\n",
        "loss_max = max(max(loss), max(val_loss))\n",
        "\n",
        "fig, ax = plt.subplots(1, 2, figsize=(10, 5))\n",
        "fig.suptitle('Training and validation accuracy')\n",
        "\n",
        "for i, (data, label) in enumerate(zip([(acc, val_acc), (loss, val_loss)], [\"Accuracy\", \"Loss\"])):\n",
        "    ax[i].plot(epochs, data[0], 'r', label=\"Training \" + label)\n",
        "    ax[i].plot(epochs, data[1], 'b', label=\"Validation \" + label)\n",
        "    ax[i].legend()\n",
        "    ax[i].set_xlabel('Epochs')\n",
        "    ax[i].set_ylabel(label)\n",
        "\n",
        "    if label == \"Accuracy\":\n",
        "        ax[i].set_ylim(0, 1)  # Set Y-axis range for accuracy from 0 to 1\n",
        "    else:\n",
        "        # Set Y-axis range for loss based on the min and max values\n",
        "        ax[i].set_ylim(loss_min - 0.1, loss_max + 0.1)  # Add some padding for better visualization\n",
        "\n",
        "    ax[i].set_xticks(epoch_ticks)  # Set custom X-axis ticks\n",
        "    ax[i].set_xticklabels([str(e) for e in epoch_ticks])  # Display epoch numbers\n",
        "\n",
        "plt.show()\n"
      ]
    },
    {
      "cell_type": "markdown",
      "metadata": {
        "id": "UdzBSwd5MOOY"
      },
      "source": [
        "# **SAVE MODEL**"
      ]
    },
    {
      "cell_type": "code",
      "execution_count": null,
      "metadata": {
        "id": "Qjgmoy5VS736"
      },
      "outputs": [],
      "source": [
        "# Save the model to drive\n",
        "model.save('/content/drive/My Drive/dog_disease_detection_model.h5')"
      ]
    },
    {
      "cell_type": "markdown",
      "source": [
        "### Convert Model to TensorFlow Lite"
      ],
      "metadata": {
        "id": "va7UyX-XTrFx"
      }
    },
    {
      "cell_type": "code",
      "source": [
        "# Load the Keras model\n",
        "model = load_model('/content/drive/My Drive/dog_disease_detection_model.h5')\n",
        "\n",
        "# Convert to TensorFlow Lite format\n",
        "converter = tf.lite.TFLiteConverter.from_keras_model(model)\n",
        "tflite_model = converter.convert()\n",
        "\n",
        "# Save the TFLite model to a file\n",
        "with open('dog_disease_detection_model(same).tflite', 'wb') as f:\n",
        "    f.write(tflite_model)\n",
        "\n",
        "print(\"Model successfully converted to TensorFlow Lite!\")"
      ],
      "metadata": {
        "id": "e7rWkBFNQiqh"
      },
      "execution_count": null,
      "outputs": []
    }
  ],
  "metadata": {
    "colab": {
      "provenance": []
    },
    "kernelspec": {
      "display_name": "Python 3",
      "name": "python3"
    },
    "language_info": {
      "name": "python"
    }
  },
  "nbformat": 4,
  "nbformat_minor": 0
}